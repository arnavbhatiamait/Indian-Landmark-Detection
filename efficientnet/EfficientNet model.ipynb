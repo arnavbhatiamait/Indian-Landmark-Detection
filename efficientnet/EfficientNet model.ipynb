{
  "cells": [
    {
      "cell_type": "markdown",
      "metadata": {
        "id": "ObwiuiGkZb87"
      },
      "source": []
    },
    {
      "cell_type": "markdown",
      "metadata": {
        "id": "UTWetPM7AWfY"
      },
      "source": [
        "# EfficientNet"
      ]
    },
    {
      "cell_type": "code",
      "execution_count": 1,
      "metadata": {
        "colab": {
          "base_uri": "https://localhost:8080/"
        },
        "id": "agzJYtfFBl6I",
        "outputId": "319146b6-a9bc-454a-90b2-d5fd1e9887e7"
      },
      "outputs": [
        {
          "name": "stdout",
          "output_type": "stream",
          "text": [
            "There are 2 directories and 0 images in 'archive - Copy - Copy\\Indian-monuments\\images'.\n",
            "There are 24 directories and 0 images in 'archive - Copy - Copy\\Indian-monuments\\images\\test'.\n",
            "There are 0 directories and 31 images in 'archive - Copy - Copy\\Indian-monuments\\images\\test\\Ajanta Caves'.\n",
            "There are 0 directories and 36 images in 'archive - Copy - Copy\\Indian-monuments\\images\\test\\alai_darwaza'.\n",
            "There are 0 directories and 35 images in 'archive - Copy - Copy\\Indian-monuments\\images\\test\\alai_minar'.\n",
            "There are 0 directories and 30 images in 'archive - Copy - Copy\\Indian-monuments\\images\\test\\basilica_of_bom_jesus'.\n",
            "There are 0 directories and 34 images in 'archive - Copy - Copy\\Indian-monuments\\images\\test\\Charar-E- Sharif'.\n",
            "There are 0 directories and 41 images in 'archive - Copy - Copy\\Indian-monuments\\images\\test\\charminar'.\n",
            "There are 0 directories and 15 images in 'archive - Copy - Copy\\Indian-monuments\\images\\test\\Chhota_Imambara'.\n",
            "There are 0 directories and 34 images in 'archive - Copy - Copy\\Indian-monuments\\images\\test\\Ellora Caves'.\n",
            "There are 0 directories and 42 images in 'archive - Copy - Copy\\Indian-monuments\\images\\test\\Fatehpur Sikri'.\n",
            "There are 0 directories and 30 images in 'archive - Copy - Copy\\Indian-monuments\\images\\test\\Gateway of India'.\n",
            "There are 0 directories and 65 images in 'archive - Copy - Copy\\Indian-monuments\\images\\test\\golden temple'.\n",
            "There are 0 directories and 81 images in 'archive - Copy - Copy\\Indian-monuments\\images\\test\\Hawa mahal'.\n",
            "There are 0 directories and 30 images in 'archive - Copy - Copy\\Indian-monuments\\images\\test\\Humayun_s Tomb'.\n",
            "There are 0 directories and 45 images in 'archive - Copy - Copy\\Indian-monuments\\images\\test\\India_gate'.\n",
            "There are 0 directories and 100 images in 'archive - Copy - Copy\\Indian-monuments\\images\\test\\iron_pillar'.\n",
            "There are 0 directories and 46 images in 'archive - Copy - Copy\\Indian-monuments\\images\\test\\jamali_kamali_tomb'.\n",
            "There are 0 directories and 44 images in 'archive - Copy - Copy\\Indian-monuments\\images\\test\\Khajuraho'.\n",
            "There are 0 directories and 30 images in 'archive - Copy - Copy\\Indian-monuments\\images\\test\\lotus_temple'.\n",
            "There are 0 directories and 29 images in 'archive - Copy - Copy\\Indian-monuments\\images\\test\\mysore_palace'.\n",
            "There are 0 directories and 70 images in 'archive - Copy - Copy\\Indian-monuments\\images\\test\\qutub_minar'.\n",
            "There are 0 directories and 40 images in 'archive - Copy - Copy\\Indian-monuments\\images\\test\\Sun Temple Konark'.\n",
            "There are 0 directories and 62 images in 'archive - Copy - Copy\\Indian-monuments\\images\\test\\tajmahal'.\n",
            "There are 0 directories and 45 images in 'archive - Copy - Copy\\Indian-monuments\\images\\test\\tanjavur temple'.\n",
            "There are 0 directories and 30 images in 'archive - Copy - Copy\\Indian-monuments\\images\\test\\victoria memorial'.\n",
            "There are 24 directories and 0 images in 'archive - Copy - Copy\\Indian-monuments\\images\\train'.\n",
            "There are 0 directories and 1044 images in 'archive - Copy - Copy\\Indian-monuments\\images\\train\\Ajanta Caves'.\n",
            "There are 0 directories and 912 images in 'archive - Copy - Copy\\Indian-monuments\\images\\train\\alai_darwaza'.\n",
            "There are 0 directories and 1200 images in 'archive - Copy - Copy\\Indian-monuments\\images\\train\\alai_minar'.\n",
            "There are 0 directories and 1068 images in 'archive - Copy - Copy\\Indian-monuments\\images\\train\\basilica_of_bom_jesus'.\n",
            "There are 0 directories and 1260 images in 'archive - Copy - Copy\\Indian-monuments\\images\\train\\Charar-E- Sharif'.\n",
            "There are 0 directories and 1552 images in 'archive - Copy - Copy\\Indian-monuments\\images\\train\\charminar'.\n",
            "There are 0 directories and 868 images in 'archive - Copy - Copy\\Indian-monuments\\images\\train\\Chhota_Imambara'.\n",
            "There are 0 directories and 1152 images in 'archive - Copy - Copy\\Indian-monuments\\images\\train\\Ellora Caves'.\n",
            "There are 0 directories and 912 images in 'archive - Copy - Copy\\Indian-monuments\\images\\train\\Fatehpur Sikri'.\n",
            "There are 0 directories and 1540 images in 'archive - Copy - Copy\\Indian-monuments\\images\\train\\Gateway of India'.\n",
            "There are 0 directories and 1544 images in 'archive - Copy - Copy\\Indian-monuments\\images\\train\\golden temple'.\n",
            "There are 0 directories and 1548 images in 'archive - Copy - Copy\\Indian-monuments\\images\\train\\hawa mahal pics'.\n",
            "There are 0 directories and 1360 images in 'archive - Copy - Copy\\Indian-monuments\\images\\train\\Humayun_s Tomb'.\n",
            "There are 0 directories and 1348 images in 'archive - Copy - Copy\\Indian-monuments\\images\\train\\India gate pics'.\n",
            "There are 0 directories and 1648 images in 'archive - Copy - Copy\\Indian-monuments\\images\\train\\iron_pillar'.\n",
            "There are 0 directories and 1468 images in 'archive - Copy - Copy\\Indian-monuments\\images\\train\\jamali_kamali_tomb'.\n",
            "There are 0 directories and 900 images in 'archive - Copy - Copy\\Indian-monuments\\images\\train\\Khajuraho'.\n",
            "There are 0 directories and 1032 images in 'archive - Copy - Copy\\Indian-monuments\\images\\train\\lotus_temple'.\n",
            "There are 0 directories and 1088 images in 'archive - Copy - Copy\\Indian-monuments\\images\\train\\mysore_palace'.\n",
            "There are 0 directories and 2744 images in 'archive - Copy - Copy\\Indian-monuments\\images\\train\\qutub_minar'.\n",
            "There are 0 directories and 1356 images in 'archive - Copy - Copy\\Indian-monuments\\images\\train\\Sun Temple Konark'.\n",
            "There are 0 directories and 1348 images in 'archive - Copy - Copy\\Indian-monuments\\images\\train\\tajmahal'.\n",
            "There are 0 directories and 1212 images in 'archive - Copy - Copy\\Indian-monuments\\images\\train\\tanjavur temple'.\n",
            "There are 0 directories and 1528 images in 'archive - Copy - Copy\\Indian-monuments\\images\\train\\victoria memorial'.\n"
          ]
        }
      ],
      "source": [
        "import os\n",
        "\n",
        "for dirpath, dirnames, filenames in os.walk(\"archive - Copy - Copy\\Indian-monuments\\images\"):\n",
        "  print(f\"There are {len(dirnames)} directories and {len(filenames)} images in '{dirpath}'.\")"
      ]
    },
    {
      "cell_type": "code",
      "execution_count": 2,
      "metadata": {
        "colab": {
          "base_uri": "https://localhost:8080/"
        },
        "id": "YAp0GN60S-rK",
        "outputId": "27808bb3-5134-4a14-db7d-4b2e6246a229"
      },
      "outputs": [
        {
          "name": "stdout",
          "output_type": "stream",
          "text": [
            "Training images:\n",
            "Found 7909 images belonging to 24 classes.\n",
            "Testing images:\n",
            "Found 1045 images belonging to 24 classes.\n"
          ]
        }
      ],
      "source": [
        "from tensorflow.keras.preprocessing.image import ImageDataGenerator\n",
        "\n",
        "IMAGE_SHAPE = (224, 224)\n",
        "BATCH_SIZE = 32\n",
        "\n",
        "train_dir = \"archive - Copy/Indian-monuments/images/train/\"\n",
        "test_dir = \"archive - Copy/Indian-monuments/images/test/\"\n",
        "\n",
        "train_datagen = ImageDataGenerator(rescale=1/255.)\n",
        "test_datagen = ImageDataGenerator(rescale=1/255.)\n",
        "\n",
        "print(\"Training images:\")\n",
        "train_data_10_percent = train_datagen.flow_from_directory(train_dir,\n",
        "                                               target_size=IMAGE_SHAPE,\n",
        "                                               batch_size=BATCH_SIZE,\n",
        "                                               class_mode=\"categorical\")\n",
        "\n",
        "print(\"Testing images:\")\n",
        "test_data = train_datagen.flow_from_directory(test_dir,\n",
        "                                              target_size=IMAGE_SHAPE,\n",
        "                                              batch_size=BATCH_SIZE,\n",
        "                                              class_mode=\"categorical\")"
      ]
    },
    {
      "cell_type": "code",
      "execution_count": 3,
      "metadata": {
        "id": "2yamhJ8xJA5x"
      },
      "outputs": [],
      "source": [
        "# Create tensorboard callback (functionized because need to create a new one for each model)\n",
        "import datetime\n",
        "def create_tensorboard_callback(dir_name, experiment_name):\n",
        "  log_dir = dir_name + \"/\" + experiment_name + \"/\" + datetime.datetime.now().strftime(\"%Y%m%d-%H%M%S\")\n",
        "  tensorboard_callback = tf.keras.callbacks.TensorBoard(\n",
        "      log_dir=log_dir\n",
        "  )\n",
        "  print(f\"Saving TensorBoard log files to: {log_dir}\")\n",
        "  return tensorboard_callback"
      ]
    },
    {
      "cell_type": "code",
      "execution_count": 4,
      "metadata": {
        "colab": {
          "base_uri": "https://localhost:8080/"
        },
        "id": "S3AnSY8YmRoS",
        "outputId": "13e29af0-bb2b-4bbe-feb7-efdf548c5a17"
      },
      "outputs": [
        {
          "name": "stdout",
          "output_type": "stream",
          "text": [
            "Defaulting to user installation because normal site-packages is not writeable\n",
            "Requirement already satisfied: tensorflow_hub in c:\\users\\91995\\appdata\\roaming\\python\\python36\\site-packages (0.16.0)\n",
            "Requirement already satisfied: numpy>=1.12.0 in c:\\programdata\\anaconda3\\envs\\ev_2\\lib\\site-packages (from tensorflow_hub) (1.19.2)\n",
            "Requirement already satisfied: protobuf>=3.19.6 in c:\\users\\91995\\appdata\\roaming\\python\\python36\\site-packages (from tensorflow_hub) (3.19.6)\n"
          ]
        }
      ],
      "source": [
        "! pip install tensorflow_hub"
      ]
    },
    {
      "cell_type": "code",
      "execution_count": 5,
      "metadata": {
        "id": "xsoE9nUJNN6s"
      },
      "outputs": [],
      "source": [
        "import tensorflow as tf\n",
        "import tensorflow_hub as hub\n",
        "from tensorflow.keras import layers"
      ]
    },
    {
      "cell_type": "code",
      "execution_count": 6,
      "metadata": {
        "id": "LZfUivHxOCbP"
      },
      "outputs": [],
      "source": [
        "\n",
        "efficientnet_url = \"https://tfhub.dev/tensorflow/efficientnet/b0/feature-vector/1\"\n",
        "\n",
        "# # New: EfficientNetB0 feature vector (version 2)\n",
        "# efficientnet_url = \"https://tfhub.dev/google/imagenet/efficientnet_v2_imagenet1k_b0/feature_vector/2\""
      ]
    },
    {
      "cell_type": "code",
      "execution_count": 7,
      "metadata": {
        "id": "p7vXoqSjId0f"
      },
      "outputs": [],
      "source": [
        "def create_model(model_url, num_classes=24):\n",
        "\n",
        "\n",
        "  feature_extractor_layer = hub.KerasLayer(model_url,\n",
        "                                           trainable=False, # freeze the underlying patterns\n",
        "                                           name='feature_extraction_layer',\n",
        "                                           input_shape=IMAGE_SHAPE+(3,)) # define the input image shape\n",
        "\n",
        "  model = tf.keras.Sequential([\n",
        "    feature_extractor_layer, # use the feature extraction layer as the base\n",
        "    layers.Dense(num_classes, activation='softmax', name='output_layer') # create our own output layer\n",
        "  ])\n",
        "\n",
        "  return model"
      ]
    },
    {
      "cell_type": "code",
      "execution_count": 8,
      "metadata": {
        "id": "Ot2QPj41ODCQ"
      },
      "outputs": [],
      "source": [
        "import matplotlib.pyplot as plt\n",
        "\n",
        "# Plot the validation and training data separately\n",
        "def plot_loss_curves(history):\n",
        "  loss = history.history['loss']\n",
        "  val_loss = history.history['val_loss']\n",
        "\n",
        "  accuracy = history.history['accuracy']\n",
        "  val_accuracy = history.history['val_accuracy']\n",
        "\n",
        "  epochs = range(len(history.history['loss']))\n",
        "\n",
        "  # Plot loss\n",
        "  plt.plot(epochs, loss, label='training_loss')\n",
        "  plt.plot(epochs, val_loss, label='val_loss')\n",
        "  plt.title('Loss')\n",
        "  plt.xlabel('Epochs')\n",
        "  plt.legend()\n",
        "\n",
        "  # Plot accuracy\n",
        "  plt.figure()\n",
        "  plt.plot(epochs, accuracy, label='training_accuracy')\n",
        "  plt.plot(epochs, val_accuracy, label='val_accuracy')\n",
        "  plt.title('Accuracy')\n",
        "  plt.xlabel('Epochs')\n",
        "  plt.legend();"
      ]
    },
    {
      "cell_type": "code",
      "execution_count": null,
      "metadata": {},
      "outputs": [],
      "source": []
    },
    {
      "cell_type": "code",
      "execution_count": null,
      "metadata": {
        "colab": {
          "base_uri": "https://localhost:8080/"
        },
        "id": "MrGi-CpMXHav",
        "outputId": "b71c291e-cc88-47fd-eb18-1f8787949985"
      },
      "outputs": [
        {
          "name": "stderr",
          "output_type": "stream",
          "text": [
            "Using TensorFlow backend.\n",
            "ERROR:root:Internal Python error in the inspect module.\n",
            "Below is the traceback from this internal error.\n",
            "\n",
            "ERROR:root:Internal Python error in the inspect module.\n",
            "Below is the traceback from this internal error.\n",
            "\n",
            "ERROR:root:Internal Python error in the inspect module.\n",
            "Below is the traceback from this internal error.\n",
            "\n"
          ]
        },
        {
          "name": "stdout",
          "output_type": "stream",
          "text": [
            "Traceback (most recent call last):\n",
            "  File \"c:\\ProgramData\\anaconda3\\envs\\ev_2\\lib\\site-packages\\tensorflow_core\\python\\framework\\importer.py\", line 497, in _import_graph_def_internal\n",
            "    graph._c_graph, serialized, options)  # pylint: disable=protected-access\n",
            "tensorflow.python.framework.errors_impl.InvalidArgumentError: NodeDef mentions attr 'exponential_avg_factor' not in Op<name=FusedBatchNormV3; signature=x:T, scale:U, offset:U, mean:U, variance:U -> y:T, batch_mean:U, batch_variance:U, reserve_space_1:U, reserve_space_2:U, reserve_space_3:U; attr=T:type,allowed=[DT_HALF, DT_BFLOAT16, DT_FLOAT]; attr=U:type,allowed=[DT_FLOAT]; attr=epsilon:float,default=0.0001; attr=data_format:string,default=\"NHWC\",allowed=[\"NHWC\", \"NCHW\"]; attr=is_training:bool,default=true>; NodeDef: {{node FusedBatchNormV3}}. (Check whether your GraphDef-interpreting binary is up to date with your GraphDef-generating binary.).\n",
            "\n",
            "During handling of the above exception, another exception occurred:\n",
            "\n",
            "Traceback (most recent call last):\n",
            "  File \"c:\\ProgramData\\anaconda3\\envs\\ev_2\\lib\\site-packages\\IPython\\core\\interactiveshell.py\", line 3343, in run_code\n",
            "    exec(code_obj, self.user_global_ns, self.user_ns)\n",
            "  File \"<ipython-input-9-e911273d009d>\", line 3, in <module>\n",
            "    num_classes=train_data_10_percent.num_classes)\n",
            "  File \"<ipython-input-7-61b0d26da517>\", line 7, in create_model\n",
            "    input_shape=IMAGE_SHAPE+(3,)) # define the input image shape\n",
            "  File \"C:\\Users\\91995\\AppData\\Roaming\\Python\\Python36\\site-packages\\tensorflow_hub\\keras_layer.py\", line 165, in __init__\n",
            "    self._func = load_module(handle, tags, self._load_options)\n",
            "  File \"C:\\Users\\91995\\AppData\\Roaming\\Python\\Python36\\site-packages\\tensorflow_hub\\keras_layer.py\", line 467, in load_module\n",
            "    return module_v2.load(handle, tags=tags, options=set_load_options)\n",
            "  File \"C:\\Users\\91995\\AppData\\Roaming\\Python\\Python36\\site-packages\\tensorflow_hub\\module_v2.py\", line 126, in load\n",
            "    obj = tf.compat.v1.saved_model.load_v2(module_path, tags=tags)\n",
            "  File \"c:\\ProgramData\\anaconda3\\envs\\ev_2\\lib\\site-packages\\tensorflow_core\\python\\saved_model\\load.py\", line 528, in load\n",
            "    return load_internal(export_dir, tags)\n",
            "  File \"c:\\ProgramData\\anaconda3\\envs\\ev_2\\lib\\site-packages\\tensorflow_core\\python\\saved_model\\load.py\", line 552, in load_internal\n",
            "    export_dir)\n",
            "  File \"c:\\ProgramData\\anaconda3\\envs\\ev_2\\lib\\site-packages\\tensorflow_core\\python\\saved_model\\load.py\", line 114, in __init__\n",
            "    meta_graph.graph_def.library))\n",
            "  File \"c:\\ProgramData\\anaconda3\\envs\\ev_2\\lib\\site-packages\\tensorflow_core\\python\\saved_model\\function_deserialization.py\", line 312, in load_function_def_library\n",
            "    func_graph = function_def_lib.function_def_to_graph(copy)\n",
            "  File \"c:\\ProgramData\\anaconda3\\envs\\ev_2\\lib\\site-packages\\tensorflow_core\\python\\framework\\function_def_to_graph.py\", line 63, in function_def_to_graph\n",
            "    importer.import_graph_def_for_function(graph_def, name=\"\")\n",
            "  File \"c:\\ProgramData\\anaconda3\\envs\\ev_2\\lib\\site-packages\\tensorflow_core\\python\\framework\\importer.py\", line 412, in import_graph_def_for_function\n",
            "    graph_def, validate_colocation_constraints=False, name=name)\n",
            "  File \"c:\\ProgramData\\anaconda3\\envs\\ev_2\\lib\\site-packages\\tensorflow_core\\python\\framework\\importer.py\", line 501, in _import_graph_def_internal\n",
            "    raise ValueError(str(e))\n",
            "ValueError: NodeDef mentions attr 'exponential_avg_factor' not in Op<name=FusedBatchNormV3; signature=x:T, scale:U, offset:U, mean:U, variance:U -> y:T, batch_mean:U, batch_variance:U, reserve_space_1:U, reserve_space_2:U, reserve_space_3:U; attr=T:type,allowed=[DT_HALF, DT_BFLOAT16, DT_FLOAT]; attr=U:type,allowed=[DT_FLOAT]; attr=epsilon:float,default=0.0001; attr=data_format:string,default=\"NHWC\",allowed=[\"NHWC\", \"NCHW\"]; attr=is_training:bool,default=true>; NodeDef: {{node FusedBatchNormV3}}. (Check whether your GraphDef-interpreting binary is up to date with your GraphDef-generating binary.).\n",
            "\n",
            "During handling of the above exception, another exception occurred:\n",
            "\n",
            "Traceback (most recent call last):\n",
            "  File \"c:\\ProgramData\\anaconda3\\envs\\ev_2\\lib\\site-packages\\IPython\\core\\interactiveshell.py\", line 2044, in showtraceback\n",
            "    stb = value._render_traceback_()\n",
            "AttributeError: 'ValueError' object has no attribute '_render_traceback_'\n",
            "\n",
            "During handling of the above exception, another exception occurred:\n",
            "\n",
            "Traceback (most recent call last):\n",
            "  File \"c:\\ProgramData\\anaconda3\\envs\\ev_2\\lib\\site-packages\\IPython\\core\\ultratb.py\", line 1169, in get_records\n",
            "    return _fixed_getinnerframes(etb, number_of_lines_of_context, tb_offset)\n",
            "  File \"c:\\ProgramData\\anaconda3\\envs\\ev_2\\lib\\site-packages\\IPython\\core\\ultratb.py\", line 316, in wrapped\n",
            "    return f(*args, **kwargs)\n",
            "  File \"c:\\ProgramData\\anaconda3\\envs\\ev_2\\lib\\site-packages\\IPython\\core\\ultratb.py\", line 350, in _fixed_getinnerframes\n",
            "    records = fix_frame_records_filenames(inspect.getinnerframes(etb, context))\n",
            "  File \"c:\\ProgramData\\anaconda3\\envs\\ev_2\\lib\\inspect.py\", line 1490, in getinnerframes\n",
            "    frameinfo = (tb.tb_frame,) + getframeinfo(tb, context)\n",
            "  File \"c:\\ProgramData\\anaconda3\\envs\\ev_2\\lib\\inspect.py\", line 1448, in getframeinfo\n",
            "    filename = getsourcefile(frame) or getfile(frame)\n",
            "  File \"c:\\ProgramData\\anaconda3\\envs\\ev_2\\lib\\inspect.py\", line 696, in getsourcefile\n",
            "    if getattr(getmodule(object, filename), '__loader__', None) is not None:\n",
            "  File \"c:\\ProgramData\\anaconda3\\envs\\ev_2\\lib\\inspect.py\", line 733, in getmodule\n",
            "    if ismodule(module) and hasattr(module, '__file__'):\n",
            "  File \"c:\\ProgramData\\anaconda3\\envs\\ev_2\\lib\\site-packages\\tensorflow\\__init__.py\", line 50, in __getattr__\n",
            "    module = self._load()\n",
            "  File \"c:\\ProgramData\\anaconda3\\envs\\ev_2\\lib\\site-packages\\tensorflow\\__init__.py\", line 44, in _load\n",
            "    module = _importlib.import_module(self.__name__)\n",
            "  File \"c:\\ProgramData\\anaconda3\\envs\\ev_2\\lib\\importlib\\__init__.py\", line 126, in import_module\n",
            "    return _bootstrap._gcd_import(name[level:], package, level)\n",
            "  File \"<frozen importlib._bootstrap>\", line 994, in _gcd_import\n",
            "  File \"<frozen importlib._bootstrap>\", line 971, in _find_and_load\n",
            "  File \"<frozen importlib._bootstrap>\", line 953, in _find_and_load_unlocked\n",
            "ModuleNotFoundError: No module named 'tensorflow_core.estimator'\n",
            "Traceback (most recent call last):\n",
            "  File \"c:\\ProgramData\\anaconda3\\envs\\ev_2\\lib\\site-packages\\tensorflow_core\\python\\framework\\importer.py\", line 497, in _import_graph_def_internal\n",
            "    graph._c_graph, serialized, options)  # pylint: disable=protected-access\n",
            "tensorflow.python.framework.errors_impl.InvalidArgumentError: NodeDef mentions attr 'exponential_avg_factor' not in Op<name=FusedBatchNormV3; signature=x:T, scale:U, offset:U, mean:U, variance:U -> y:T, batch_mean:U, batch_variance:U, reserve_space_1:U, reserve_space_2:U, reserve_space_3:U; attr=T:type,allowed=[DT_HALF, DT_BFLOAT16, DT_FLOAT]; attr=U:type,allowed=[DT_FLOAT]; attr=epsilon:float,default=0.0001; attr=data_format:string,default=\"NHWC\",allowed=[\"NHWC\", \"NCHW\"]; attr=is_training:bool,default=true>; NodeDef: {{node FusedBatchNormV3}}. (Check whether your GraphDef-interpreting binary is up to date with your GraphDef-generating binary.).\n",
            "\n",
            "During handling of the above exception, another exception occurred:\n",
            "\n",
            "Traceback (most recent call last):\n",
            "  File \"c:\\ProgramData\\anaconda3\\envs\\ev_2\\lib\\site-packages\\IPython\\core\\interactiveshell.py\", line 3343, in run_code\n",
            "    exec(code_obj, self.user_global_ns, self.user_ns)\n",
            "  File \"<ipython-input-9-e911273d009d>\", line 3, in <module>\n",
            "    num_classes=train_data_10_percent.num_classes)\n",
            "  File \"<ipython-input-7-61b0d26da517>\", line 7, in create_model\n",
            "    input_shape=IMAGE_SHAPE+(3,)) # define the input image shape\n",
            "  File \"C:\\Users\\91995\\AppData\\Roaming\\Python\\Python36\\site-packages\\tensorflow_hub\\keras_layer.py\", line 165, in __init__\n",
            "    self._func = load_module(handle, tags, self._load_options)\n",
            "  File \"C:\\Users\\91995\\AppData\\Roaming\\Python\\Python36\\site-packages\\tensorflow_hub\\keras_layer.py\", line 467, in load_module\n",
            "    return module_v2.load(handle, tags=tags, options=set_load_options)\n",
            "  File \"C:\\Users\\91995\\AppData\\Roaming\\Python\\Python36\\site-packages\\tensorflow_hub\\module_v2.py\", line 126, in load\n",
            "    obj = tf.compat.v1.saved_model.load_v2(module_path, tags=tags)\n",
            "  File \"c:\\ProgramData\\anaconda3\\envs\\ev_2\\lib\\site-packages\\tensorflow_core\\python\\saved_model\\load.py\", line 528, in load\n",
            "    return load_internal(export_dir, tags)\n",
            "  File \"c:\\ProgramData\\anaconda3\\envs\\ev_2\\lib\\site-packages\\tensorflow_core\\python\\saved_model\\load.py\", line 552, in load_internal\n",
            "    export_dir)\n",
            "  File \"c:\\ProgramData\\anaconda3\\envs\\ev_2\\lib\\site-packages\\tensorflow_core\\python\\saved_model\\load.py\", line 114, in __init__\n",
            "    meta_graph.graph_def.library))\n",
            "  File \"c:\\ProgramData\\anaconda3\\envs\\ev_2\\lib\\site-packages\\tensorflow_core\\python\\saved_model\\function_deserialization.py\", line 312, in load_function_def_library\n",
            "    func_graph = function_def_lib.function_def_to_graph(copy)\n",
            "  File \"c:\\ProgramData\\anaconda3\\envs\\ev_2\\lib\\site-packages\\tensorflow_core\\python\\framework\\function_def_to_graph.py\", line 63, in function_def_to_graph\n",
            "    importer.import_graph_def_for_function(graph_def, name=\"\")\n",
            "  File \"c:\\ProgramData\\anaconda3\\envs\\ev_2\\lib\\site-packages\\tensorflow_core\\python\\framework\\importer.py\", line 412, in import_graph_def_for_function\n",
            "    graph_def, validate_colocation_constraints=False, name=name)\n",
            "  File \"c:\\ProgramData\\anaconda3\\envs\\ev_2\\lib\\site-packages\\tensorflow_core\\python\\framework\\importer.py\", line 501, in _import_graph_def_internal\n",
            "    raise ValueError(str(e))\n",
            "ValueError: NodeDef mentions attr 'exponential_avg_factor' not in Op<name=FusedBatchNormV3; signature=x:T, scale:U, offset:U, mean:U, variance:U -> y:T, batch_mean:U, batch_variance:U, reserve_space_1:U, reserve_space_2:U, reserve_space_3:U; attr=T:type,allowed=[DT_HALF, DT_BFLOAT16, DT_FLOAT]; attr=U:type,allowed=[DT_FLOAT]; attr=epsilon:float,default=0.0001; attr=data_format:string,default=\"NHWC\",allowed=[\"NHWC\", \"NCHW\"]; attr=is_training:bool,default=true>; NodeDef: {{node FusedBatchNormV3}}. (Check whether your GraphDef-interpreting binary is up to date with your GraphDef-generating binary.).\n",
            "\n",
            "During handling of the above exception, another exception occurred:\n",
            "\n",
            "Traceback (most recent call last):\n",
            "  File \"c:\\ProgramData\\anaconda3\\envs\\ev_2\\lib\\site-packages\\IPython\\core\\interactiveshell.py\", line 2044, in showtraceback\n",
            "    stb = value._render_traceback_()\n",
            "AttributeError: 'ValueError' object has no attribute '_render_traceback_'\n",
            "\n",
            "During handling of the above exception, another exception occurred:\n",
            "\n",
            "Traceback (most recent call last):\n",
            "  File \"c:\\ProgramData\\anaconda3\\envs\\ev_2\\lib\\site-packages\\IPython\\core\\interactiveshell.py\", line 3263, in run_ast_nodes\n",
            "    if (await self.run_code(code, result,  async_=asy)):\n",
            "  File \"c:\\ProgramData\\anaconda3\\envs\\ev_2\\lib\\site-packages\\IPython\\core\\interactiveshell.py\", line 3360, in run_code\n",
            "    self.showtraceback(running_compiled_code=True)\n",
            "  File \"c:\\ProgramData\\anaconda3\\envs\\ev_2\\lib\\site-packages\\IPython\\core\\interactiveshell.py\", line 2047, in showtraceback\n",
            "    value, tb, tb_offset=tb_offset)\n",
            "  File \"c:\\ProgramData\\anaconda3\\envs\\ev_2\\lib\\site-packages\\IPython\\core\\ultratb.py\", line 1436, in structured_traceback\n",
            "    self, etype, value, tb, tb_offset, number_of_lines_of_context)\n",
            "  File \"c:\\ProgramData\\anaconda3\\envs\\ev_2\\lib\\site-packages\\IPython\\core\\ultratb.py\", line 1336, in structured_traceback\n",
            "    self, etype, value, tb, tb_offset, number_of_lines_of_context\n",
            "  File \"c:\\ProgramData\\anaconda3\\envs\\ev_2\\lib\\site-packages\\IPython\\core\\ultratb.py\", line 1193, in structured_traceback\n",
            "    tb_offset)\n",
            "  File \"c:\\ProgramData\\anaconda3\\envs\\ev_2\\lib\\site-packages\\IPython\\core\\ultratb.py\", line 1150, in format_exception_as_a_whole\n",
            "    last_unique, recursion_repeat = find_recursion(orig_etype, evalue, records)\n",
            "  File \"c:\\ProgramData\\anaconda3\\envs\\ev_2\\lib\\site-packages\\IPython\\core\\ultratb.py\", line 451, in find_recursion\n",
            "    return len(records), 0\n",
            "TypeError: object of type 'NoneType' has no len()\n",
            "\n",
            "During handling of the above exception, another exception occurred:\n",
            "\n",
            "Traceback (most recent call last):\n",
            "  File \"c:\\ProgramData\\anaconda3\\envs\\ev_2\\lib\\site-packages\\IPython\\core\\interactiveshell.py\", line 2044, in showtraceback\n",
            "    stb = value._render_traceback_()\n",
            "AttributeError: 'TypeError' object has no attribute '_render_traceback_'\n",
            "\n",
            "During handling of the above exception, another exception occurred:\n",
            "\n",
            "Traceback (most recent call last):\n",
            "  File \"c:\\ProgramData\\anaconda3\\envs\\ev_2\\lib\\site-packages\\IPython\\core\\ultratb.py\", line 1169, in get_records\n",
            "    return _fixed_getinnerframes(etb, number_of_lines_of_context, tb_offset)\n",
            "  File \"c:\\ProgramData\\anaconda3\\envs\\ev_2\\lib\\site-packages\\IPython\\core\\ultratb.py\", line 316, in wrapped\n",
            "    return f(*args, **kwargs)\n",
            "  File \"c:\\ProgramData\\anaconda3\\envs\\ev_2\\lib\\site-packages\\IPython\\core\\ultratb.py\", line 350, in _fixed_getinnerframes\n",
            "    records = fix_frame_records_filenames(inspect.getinnerframes(etb, context))\n",
            "  File \"c:\\ProgramData\\anaconda3\\envs\\ev_2\\lib\\inspect.py\", line 1490, in getinnerframes\n",
            "    frameinfo = (tb.tb_frame,) + getframeinfo(tb, context)\n",
            "  File \"c:\\ProgramData\\anaconda3\\envs\\ev_2\\lib\\inspect.py\", line 1448, in getframeinfo\n",
            "    filename = getsourcefile(frame) or getfile(frame)\n",
            "  File \"c:\\ProgramData\\anaconda3\\envs\\ev_2\\lib\\inspect.py\", line 696, in getsourcefile\n",
            "    if getattr(getmodule(object, filename), '__loader__', None) is not None:\n",
            "  File \"c:\\ProgramData\\anaconda3\\envs\\ev_2\\lib\\inspect.py\", line 733, in getmodule\n",
            "    if ismodule(module) and hasattr(module, '__file__'):\n",
            "  File \"c:\\ProgramData\\anaconda3\\envs\\ev_2\\lib\\site-packages\\tensorflow\\__init__.py\", line 50, in __getattr__\n",
            "    module = self._load()\n",
            "  File \"c:\\ProgramData\\anaconda3\\envs\\ev_2\\lib\\site-packages\\tensorflow\\__init__.py\", line 44, in _load\n",
            "    module = _importlib.import_module(self.__name__)\n",
            "  File \"c:\\ProgramData\\anaconda3\\envs\\ev_2\\lib\\importlib\\__init__.py\", line 126, in import_module\n",
            "    return _bootstrap._gcd_import(name[level:], package, level)\n",
            "  File \"<frozen importlib._bootstrap>\", line 994, in _gcd_import\n",
            "  File \"<frozen importlib._bootstrap>\", line 971, in _find_and_load\n",
            "  File \"<frozen importlib._bootstrap>\", line 953, in _find_and_load_unlocked\n",
            "ModuleNotFoundError: No module named 'tensorflow_core.estimator'\n",
            "Traceback (most recent call last):\n",
            "  File \"c:\\ProgramData\\anaconda3\\envs\\ev_2\\lib\\site-packages\\tensorflow_core\\python\\framework\\importer.py\", line 497, in _import_graph_def_internal\n",
            "    graph._c_graph, serialized, options)  # pylint: disable=protected-access\n",
            "tensorflow.python.framework.errors_impl.InvalidArgumentError: NodeDef mentions attr 'exponential_avg_factor' not in Op<name=FusedBatchNormV3; signature=x:T, scale:U, offset:U, mean:U, variance:U -> y:T, batch_mean:U, batch_variance:U, reserve_space_1:U, reserve_space_2:U, reserve_space_3:U; attr=T:type,allowed=[DT_HALF, DT_BFLOAT16, DT_FLOAT]; attr=U:type,allowed=[DT_FLOAT]; attr=epsilon:float,default=0.0001; attr=data_format:string,default=\"NHWC\",allowed=[\"NHWC\", \"NCHW\"]; attr=is_training:bool,default=true>; NodeDef: {{node FusedBatchNormV3}}. (Check whether your GraphDef-interpreting binary is up to date with your GraphDef-generating binary.).\n",
            "\n",
            "During handling of the above exception, another exception occurred:\n",
            "\n",
            "Traceback (most recent call last):\n",
            "  File \"c:\\ProgramData\\anaconda3\\envs\\ev_2\\lib\\site-packages\\IPython\\core\\interactiveshell.py\", line 3343, in run_code\n",
            "    exec(code_obj, self.user_global_ns, self.user_ns)\n",
            "  File \"<ipython-input-9-e911273d009d>\", line 3, in <module>\n",
            "    num_classes=train_data_10_percent.num_classes)\n",
            "  File \"<ipython-input-7-61b0d26da517>\", line 7, in create_model\n",
            "    input_shape=IMAGE_SHAPE+(3,)) # define the input image shape\n",
            "  File \"C:\\Users\\91995\\AppData\\Roaming\\Python\\Python36\\site-packages\\tensorflow_hub\\keras_layer.py\", line 165, in __init__\n",
            "    self._func = load_module(handle, tags, self._load_options)\n",
            "  File \"C:\\Users\\91995\\AppData\\Roaming\\Python\\Python36\\site-packages\\tensorflow_hub\\keras_layer.py\", line 467, in load_module\n",
            "    return module_v2.load(handle, tags=tags, options=set_load_options)\n",
            "  File \"C:\\Users\\91995\\AppData\\Roaming\\Python\\Python36\\site-packages\\tensorflow_hub\\module_v2.py\", line 126, in load\n",
            "    obj = tf.compat.v1.saved_model.load_v2(module_path, tags=tags)\n",
            "  File \"c:\\ProgramData\\anaconda3\\envs\\ev_2\\lib\\site-packages\\tensorflow_core\\python\\saved_model\\load.py\", line 528, in load\n",
            "    return load_internal(export_dir, tags)\n",
            "  File \"c:\\ProgramData\\anaconda3\\envs\\ev_2\\lib\\site-packages\\tensorflow_core\\python\\saved_model\\load.py\", line 552, in load_internal\n",
            "    export_dir)\n",
            "  File \"c:\\ProgramData\\anaconda3\\envs\\ev_2\\lib\\site-packages\\tensorflow_core\\python\\saved_model\\load.py\", line 114, in __init__\n",
            "    meta_graph.graph_def.library))\n",
            "  File \"c:\\ProgramData\\anaconda3\\envs\\ev_2\\lib\\site-packages\\tensorflow_core\\python\\saved_model\\function_deserialization.py\", line 312, in load_function_def_library\n",
            "    func_graph = function_def_lib.function_def_to_graph(copy)\n",
            "  File \"c:\\ProgramData\\anaconda3\\envs\\ev_2\\lib\\site-packages\\tensorflow_core\\python\\framework\\function_def_to_graph.py\", line 63, in function_def_to_graph\n",
            "    importer.import_graph_def_for_function(graph_def, name=\"\")\n",
            "  File \"c:\\ProgramData\\anaconda3\\envs\\ev_2\\lib\\site-packages\\tensorflow_core\\python\\framework\\importer.py\", line 412, in import_graph_def_for_function\n",
            "    graph_def, validate_colocation_constraints=False, name=name)\n",
            "  File \"c:\\ProgramData\\anaconda3\\envs\\ev_2\\lib\\site-packages\\tensorflow_core\\python\\framework\\importer.py\", line 501, in _import_graph_def_internal\n",
            "    raise ValueError(str(e))\n",
            "ValueError: NodeDef mentions attr 'exponential_avg_factor' not in Op<name=FusedBatchNormV3; signature=x:T, scale:U, offset:U, mean:U, variance:U -> y:T, batch_mean:U, batch_variance:U, reserve_space_1:U, reserve_space_2:U, reserve_space_3:U; attr=T:type,allowed=[DT_HALF, DT_BFLOAT16, DT_FLOAT]; attr=U:type,allowed=[DT_FLOAT]; attr=epsilon:float,default=0.0001; attr=data_format:string,default=\"NHWC\",allowed=[\"NHWC\", \"NCHW\"]; attr=is_training:bool,default=true>; NodeDef: {{node FusedBatchNormV3}}. (Check whether your GraphDef-interpreting binary is up to date with your GraphDef-generating binary.).\n",
            "\n",
            "During handling of the above exception, another exception occurred:\n",
            "\n",
            "Traceback (most recent call last):\n",
            "  File \"c:\\ProgramData\\anaconda3\\envs\\ev_2\\lib\\site-packages\\IPython\\core\\interactiveshell.py\", line 2044, in showtraceback\n",
            "    stb = value._render_traceback_()\n",
            "AttributeError: 'ValueError' object has no attribute '_render_traceback_'\n",
            "\n",
            "During handling of the above exception, another exception occurred:\n",
            "\n",
            "Traceback (most recent call last):\n",
            "  File \"c:\\ProgramData\\anaconda3\\envs\\ev_2\\lib\\site-packages\\IPython\\core\\interactiveshell.py\", line 3263, in run_ast_nodes\n",
            "    if (await self.run_code(code, result,  async_=asy)):\n",
            "  File \"c:\\ProgramData\\anaconda3\\envs\\ev_2\\lib\\site-packages\\IPython\\core\\interactiveshell.py\", line 3360, in run_code\n",
            "    self.showtraceback(running_compiled_code=True)\n",
            "  File \"c:\\ProgramData\\anaconda3\\envs\\ev_2\\lib\\site-packages\\IPython\\core\\interactiveshell.py\", line 2047, in showtraceback\n",
            "    value, tb, tb_offset=tb_offset)\n",
            "  File \"c:\\ProgramData\\anaconda3\\envs\\ev_2\\lib\\site-packages\\IPython\\core\\ultratb.py\", line 1436, in structured_traceback\n",
            "    self, etype, value, tb, tb_offset, number_of_lines_of_context)\n",
            "  File \"c:\\ProgramData\\anaconda3\\envs\\ev_2\\lib\\site-packages\\IPython\\core\\ultratb.py\", line 1336, in structured_traceback\n",
            "    self, etype, value, tb, tb_offset, number_of_lines_of_context\n",
            "  File \"c:\\ProgramData\\anaconda3\\envs\\ev_2\\lib\\site-packages\\IPython\\core\\ultratb.py\", line 1193, in structured_traceback\n",
            "    tb_offset)\n",
            "  File \"c:\\ProgramData\\anaconda3\\envs\\ev_2\\lib\\site-packages\\IPython\\core\\ultratb.py\", line 1150, in format_exception_as_a_whole\n",
            "    last_unique, recursion_repeat = find_recursion(orig_etype, evalue, records)\n",
            "  File \"c:\\ProgramData\\anaconda3\\envs\\ev_2\\lib\\site-packages\\IPython\\core\\ultratb.py\", line 451, in find_recursion\n",
            "    return len(records), 0\n",
            "TypeError: object of type 'NoneType' has no len()\n",
            "\n",
            "During handling of the above exception, another exception occurred:\n",
            "\n",
            "Traceback (most recent call last):\n",
            "  File \"c:\\ProgramData\\anaconda3\\envs\\ev_2\\lib\\site-packages\\IPython\\core\\interactiveshell.py\", line 2044, in showtraceback\n",
            "    stb = value._render_traceback_()\n",
            "AttributeError: 'TypeError' object has no attribute '_render_traceback_'\n",
            "\n",
            "During handling of the above exception, another exception occurred:\n",
            "\n",
            "Traceback (most recent call last):\n",
            "  File \"c:\\ProgramData\\anaconda3\\envs\\ev_2\\lib\\site-packages\\IPython\\core\\interactiveshell.py\", line 2895, in _run_cell\n",
            "    return runner(coro)\n",
            "  File \"c:\\ProgramData\\anaconda3\\envs\\ev_2\\lib\\site-packages\\IPython\\core\\async_helpers.py\", line 68, in _pseudo_sync_runner\n",
            "    coro.send(None)\n",
            "  File \"c:\\ProgramData\\anaconda3\\envs\\ev_2\\lib\\site-packages\\IPython\\core\\interactiveshell.py\", line 3072, in run_cell_async\n",
            "    interactivity=interactivity, compiler=compiler, result=result)\n",
            "  File \"c:\\ProgramData\\anaconda3\\envs\\ev_2\\lib\\site-packages\\IPython\\core\\interactiveshell.py\", line 3282, in run_ast_nodes\n",
            "    self.showtraceback()\n",
            "  File \"c:\\ProgramData\\anaconda3\\envs\\ev_2\\lib\\site-packages\\IPython\\core\\interactiveshell.py\", line 2047, in showtraceback\n",
            "    value, tb, tb_offset=tb_offset)\n",
            "  File \"c:\\ProgramData\\anaconda3\\envs\\ev_2\\lib\\site-packages\\IPython\\core\\ultratb.py\", line 1436, in structured_traceback\n",
            "    self, etype, value, tb, tb_offset, number_of_lines_of_context)\n",
            "  File \"c:\\ProgramData\\anaconda3\\envs\\ev_2\\lib\\site-packages\\IPython\\core\\ultratb.py\", line 1336, in structured_traceback\n",
            "    self, etype, value, tb, tb_offset, number_of_lines_of_context\n",
            "  File \"c:\\ProgramData\\anaconda3\\envs\\ev_2\\lib\\site-packages\\IPython\\core\\ultratb.py\", line 1211, in structured_traceback\n",
            "    chained_exceptions_tb_offset)\n",
            "  File \"c:\\ProgramData\\anaconda3\\envs\\ev_2\\lib\\site-packages\\IPython\\core\\ultratb.py\", line 1150, in format_exception_as_a_whole\n",
            "    last_unique, recursion_repeat = find_recursion(orig_etype, evalue, records)\n",
            "  File \"c:\\ProgramData\\anaconda3\\envs\\ev_2\\lib\\site-packages\\IPython\\core\\ultratb.py\", line 451, in find_recursion\n",
            "    return len(records), 0\n",
            "TypeError: object of type 'NoneType' has no len()\n",
            "\n",
            "During handling of the above exception, another exception occurred:\n",
            "\n",
            "Traceback (most recent call last):\n",
            "  File \"c:\\ProgramData\\anaconda3\\envs\\ev_2\\lib\\site-packages\\IPython\\core\\interactiveshell.py\", line 2044, in showtraceback\n",
            "    stb = value._render_traceback_()\n",
            "AttributeError: 'TypeError' object has no attribute '_render_traceback_'\n",
            "\n",
            "During handling of the above exception, another exception occurred:\n",
            "\n",
            "Traceback (most recent call last):\n",
            "  File \"c:\\ProgramData\\anaconda3\\envs\\ev_2\\lib\\site-packages\\IPython\\core\\ultratb.py\", line 1169, in get_records\n",
            "    return _fixed_getinnerframes(etb, number_of_lines_of_context, tb_offset)\n",
            "  File \"c:\\ProgramData\\anaconda3\\envs\\ev_2\\lib\\site-packages\\IPython\\core\\ultratb.py\", line 316, in wrapped\n",
            "    return f(*args, **kwargs)\n",
            "  File \"c:\\ProgramData\\anaconda3\\envs\\ev_2\\lib\\site-packages\\IPython\\core\\ultratb.py\", line 350, in _fixed_getinnerframes\n",
            "    records = fix_frame_records_filenames(inspect.getinnerframes(etb, context))\n",
            "  File \"c:\\ProgramData\\anaconda3\\envs\\ev_2\\lib\\inspect.py\", line 1490, in getinnerframes\n",
            "    frameinfo = (tb.tb_frame,) + getframeinfo(tb, context)\n",
            "  File \"c:\\ProgramData\\anaconda3\\envs\\ev_2\\lib\\inspect.py\", line 1448, in getframeinfo\n",
            "    filename = getsourcefile(frame) or getfile(frame)\n",
            "  File \"c:\\ProgramData\\anaconda3\\envs\\ev_2\\lib\\inspect.py\", line 696, in getsourcefile\n",
            "    if getattr(getmodule(object, filename), '__loader__', None) is not None:\n",
            "  File \"c:\\ProgramData\\anaconda3\\envs\\ev_2\\lib\\inspect.py\", line 733, in getmodule\n",
            "    if ismodule(module) and hasattr(module, '__file__'):\n",
            "  File \"c:\\ProgramData\\anaconda3\\envs\\ev_2\\lib\\site-packages\\tensorflow\\__init__.py\", line 50, in __getattr__\n",
            "    module = self._load()\n",
            "  File \"c:\\ProgramData\\anaconda3\\envs\\ev_2\\lib\\site-packages\\tensorflow\\__init__.py\", line 44, in _load\n",
            "    module = _importlib.import_module(self.__name__)\n",
            "  File \"c:\\ProgramData\\anaconda3\\envs\\ev_2\\lib\\importlib\\__init__.py\", line 126, in import_module\n",
            "    return _bootstrap._gcd_import(name[level:], package, level)\n",
            "  File \"<frozen importlib._bootstrap>\", line 994, in _gcd_import\n",
            "  File \"<frozen importlib._bootstrap>\", line 971, in _find_and_load\n",
            "  File \"<frozen importlib._bootstrap>\", line 953, in _find_and_load_unlocked\n",
            "ModuleNotFoundError: No module named 'tensorflow_core.estimator'\n"
          ]
        }
      ],
      "source": [
        "# Create model\n",
        "efficientnet_model = create_model(model_url=efficientnet_url, # use EfficientNetB0 TensorFlow Hub URL\n",
        "                                  num_classes=train_data_10_percent.num_classes)\n",
        "\n",
        "# Compile EfficientNet model\n",
        "efficientnet_model.compile(loss='categorical_crossentropy',\n",
        "                           optimizer=tf.keras.optimizers.Adam(),\n",
        "                           metrics=['accuracy'])\n",
        "\n",
        "\n",
        "efficientnet_history = efficientnet_model.fit(train_data_10_percent, # only use 10% of training data\n",
        "                                              epochs=5, # train for 5 epochs\n",
        "                                              steps_per_epoch=len(train_data_10_percent),\n",
        "                                              validation_data=test_data,\n",
        "                                              validation_steps=len(test_data),\n",
        "                                              callbacks=[create_tensorboard_callback(dir_name=\"tensorflow_hub\",\n",
        "                                                                                     # Track logs under different experiment name\n",
        "                                                                                     experiment_name=\"efficientnetB0\")])"
      ]
    },
    {
      "cell_type": "code",
      "execution_count": null,
      "metadata": {
        "colab": {
          "base_uri": "https://localhost:8080/",
          "height": 927
        },
        "id": "8UzgNYFdODRB",
        "outputId": "470df4b5-8bd0-476d-e115-0911ab69eb71"
      },
      "outputs": [
        {
          "ename": "NameError",
          "evalue": "name 'efficientnet_history' is not defined",
          "output_type": "error",
          "traceback": [
            "\u001b[1;31m---------------------------------------------------------------------------\u001b[0m",
            "\u001b[1;31mNameError\u001b[0m                                 Traceback (most recent call last)",
            "Cell \u001b[1;32mIn[11], line 1\u001b[0m\n\u001b[1;32m----> 1\u001b[0m plot_loss_curves(\u001b[43mefficientnet_history\u001b[49m)\n",
            "\u001b[1;31mNameError\u001b[0m: name 'efficientnet_history' is not defined"
          ]
        }
      ],
      "source": [
        "plot_loss_curves(efficientnet_history)"
      ]
    },
    {
      "cell_type": "code",
      "execution_count": null,
      "metadata": {
        "colab": {
          "base_uri": "https://localhost:8080/"
        },
        "id": "clJzUbKpODXA",
        "outputId": "a7b38c32-095d-4c72-bb14-4014cc89fdd0"
      },
      "outputs": [
        {
          "name": "stdout",
          "output_type": "stream",
          "text": [
            "Model: \"sequential\"\n",
            "_________________________________________________________________\n",
            " Layer (type)                Output Shape              Param #   \n",
            "=================================================================\n",
            " feature_extraction_layer (  (None, 1280)              4049564   \n",
            " KerasLayer)                                                     \n",
            "                                                                 \n",
            " output_layer (Dense)        (None, 24)                30744     \n",
            "                                                                 \n",
            "=================================================================\n",
            "Total params: 4080308 (15.57 MB)\n",
            "Trainable params: 30744 (120.09 KB)\n",
            "Non-trainable params: 4049564 (15.45 MB)\n",
            "_________________________________________________________________\n"
          ]
        }
      ],
      "source": [
        "efficientnet_model.summary()"
      ]
    },
    {
      "cell_type": "code",
      "execution_count": null,
      "metadata": {
        "colab": {
          "base_uri": "https://localhost:8080/"
        },
        "id": "y2UmAlcNpP6x",
        "outputId": "f08c94dc-e9fc-45f7-8be6-02550f8bfa08"
      },
      "outputs": [
        {
          "name": "stderr",
          "output_type": "stream",
          "text": [
            "/usr/local/lib/python3.10/dist-packages/keras/src/engine/training.py:3103: UserWarning: You are saving your model as an HDF5 file via `model.save()`. This file format is considered legacy. We recommend using instead the native Keras format, e.g. `model.save('my_model.keras')`.\n",
            "  saving_api.save_model(\n"
          ]
        }
      ],
      "source": [
        "efficientnet_model.save(\"efficientnet1.h5\")\n"
      ]
    },
    {
      "cell_type": "code",
      "execution_count": null,
      "metadata": {
        "id": "zTfMoytlpVMl"
      },
      "outputs": [],
      "source": [
        "efficientnet_model.save(\"/content/drive/MyDrive/efficient-2\", save_format=\"h5\")"
      ]
    },
    {
      "cell_type": "code",
      "execution_count": null,
      "metadata": {
        "colab": {
          "base_uri": "https://localhost:8080/"
        },
        "id": "857jHY4Mpqvu",
        "outputId": "1ac4c971-3861-4286-9914-600a18dda201"
      },
      "outputs": [
        {
          "name": "stdout",
          "output_type": "stream",
          "text": [
            "Saving TensorBoard log files to: tensorflow_hub/efficientnetB0/20240512-124049\n",
            "Epoch 1/50\n",
            "248/248 [==============================] - 454s 2s/step - loss: 1.2884 - accuracy: 0.7063 - val_loss: 2.6359 - val_accuracy: 0.5234\n",
            "Epoch 2/50\n",
            "248/248 [==============================] - 438s 2s/step - loss: 0.5971 - accuracy: 0.8631 - val_loss: 2.9521 - val_accuracy: 0.5416\n",
            "Epoch 3/50\n",
            "248/248 [==============================] - 450s 2s/step - loss: 0.4545 - accuracy: 0.8943 - val_loss: 3.2102 - val_accuracy: 0.5416\n",
            "Epoch 4/50\n",
            "248/248 [==============================] - 436s 2s/step - loss: 0.3770 - accuracy: 0.9106 - val_loss: 3.3744 - val_accuracy: 0.5464\n",
            "Epoch 5/50\n",
            "248/248 [==============================] - 464s 2s/step - loss: 0.3233 - accuracy: 0.9264 - val_loss: 3.5098 - val_accuracy: 0.5483\n",
            "Epoch 6/50\n",
            "248/248 [==============================] - 441s 2s/step - loss: 0.2832 - accuracy: 0.9353 - val_loss: 3.6166 - val_accuracy: 0.5493\n",
            "Epoch 7/50\n",
            "248/248 [==============================] - 434s 2s/step - loss: 0.2504 - accuracy: 0.9455 - val_loss: 3.7096 - val_accuracy: 0.5483\n",
            "Epoch 8/50\n",
            "248/248 [==============================] - 436s 2s/step - loss: 0.2230 - accuracy: 0.9518 - val_loss: 3.7980 - val_accuracy: 0.5502\n",
            "Epoch 9/50\n",
            "248/248 [==============================] - 476s 2s/step - loss: 0.2014 - accuracy: 0.9565 - val_loss: 3.9141 - val_accuracy: 0.5512\n",
            "Epoch 10/50\n",
            "248/248 [==============================] - 449s 2s/step - loss: 0.1832 - accuracy: 0.9633 - val_loss: 3.9694 - val_accuracy: 0.5483\n",
            "Epoch 11/50\n",
            "248/248 [==============================] - 471s 2s/step - loss: 0.1663 - accuracy: 0.9661 - val_loss: 4.0840 - val_accuracy: 0.5464\n",
            "Epoch 12/50\n",
            "248/248 [==============================] - 454s 2s/step - loss: 0.1520 - accuracy: 0.9691 - val_loss: 4.1293 - val_accuracy: 0.5493\n",
            "Epoch 13/50\n",
            "248/248 [==============================] - 431s 2s/step - loss: 0.1389 - accuracy: 0.9736 - val_loss: 4.2468 - val_accuracy: 0.5512\n",
            "Epoch 14/50\n",
            "248/248 [==============================] - 402s 2s/step - loss: 0.1282 - accuracy: 0.9770 - val_loss: 4.3213 - val_accuracy: 0.5455\n",
            "Epoch 15/50\n",
            "248/248 [==============================] - 403s 2s/step - loss: 0.1176 - accuracy: 0.9784 - val_loss: 4.4190 - val_accuracy: 0.5502\n",
            "Epoch 16/50\n",
            "248/248 [==============================] - 436s 2s/step - loss: 0.1087 - accuracy: 0.9812 - val_loss: 4.4940 - val_accuracy: 0.5455\n",
            "Epoch 17/50\n",
            "248/248 [==============================] - 403s 2s/step - loss: 0.1003 - accuracy: 0.9824 - val_loss: 4.5586 - val_accuracy: 0.5445\n",
            "Epoch 18/50\n",
            "248/248 [==============================] - 398s 2s/step - loss: 0.0923 - accuracy: 0.9833 - val_loss: 4.6560 - val_accuracy: 0.5445\n",
            "Epoch 19/50\n",
            "248/248 [==============================] - 397s 2s/step - loss: 0.0858 - accuracy: 0.9852 - val_loss: 4.7078 - val_accuracy: 0.5464\n",
            "Epoch 20/50\n",
            "248/248 [==============================] - 407s 2s/step - loss: 0.0802 - accuracy: 0.9856 - val_loss: 4.7803 - val_accuracy: 0.5464\n",
            "Epoch 21/50\n",
            "248/248 [==============================] - 408s 2s/step - loss: 0.0751 - accuracy: 0.9863 - val_loss: 4.8586 - val_accuracy: 0.5474\n",
            "Epoch 22/50\n",
            "248/248 [==============================] - 399s 2s/step - loss: 0.0691 - accuracy: 0.9882 - val_loss: 4.9388 - val_accuracy: 0.5464\n",
            "Epoch 23/50\n",
            "248/248 [==============================] - 402s 2s/step - loss: 0.0647 - accuracy: 0.9887 - val_loss: 4.9937 - val_accuracy: 0.5455\n",
            "Epoch 24/50\n",
            "248/248 [==============================] - 397s 2s/step - loss: 0.0601 - accuracy: 0.9901 - val_loss: 5.1366 - val_accuracy: 0.5455\n",
            "Epoch 25/50\n",
            "248/248 [==============================] - 404s 2s/step - loss: 0.0564 - accuracy: 0.9910 - val_loss: 5.1747 - val_accuracy: 0.5455\n",
            "Epoch 26/50\n",
            "248/248 [==============================] - 398s 2s/step - loss: 0.0533 - accuracy: 0.9910 - val_loss: 5.2228 - val_accuracy: 0.5445\n",
            "Epoch 27/50\n",
            "248/248 [==============================] - 399s 2s/step - loss: 0.0505 - accuracy: 0.9906 - val_loss: 5.3098 - val_accuracy: 0.5426\n",
            "Epoch 28/50\n",
            "248/248 [==============================] - 396s 2s/step - loss: 0.0472 - accuracy: 0.9915 - val_loss: 5.3714 - val_accuracy: 0.5426\n",
            "Epoch 29/50\n",
            "248/248 [==============================] - 403s 2s/step - loss: 0.0449 - accuracy: 0.9920 - val_loss: 5.4375 - val_accuracy: 0.5435\n",
            "Epoch 30/50\n",
            "248/248 [==============================] - 398s 2s/step - loss: 0.0417 - accuracy: 0.9924 - val_loss: 5.5163 - val_accuracy: 0.5435\n",
            "Epoch 31/50\n",
            "248/248 [==============================] - 401s 2s/step - loss: 0.0396 - accuracy: 0.9929 - val_loss: 5.5829 - val_accuracy: 0.5464\n",
            "Epoch 32/50\n",
            "248/248 [==============================] - 393s 2s/step - loss: 0.0378 - accuracy: 0.9939 - val_loss: 5.6697 - val_accuracy: 0.5435\n",
            "Epoch 33/50\n",
            "248/248 [==============================] - 433s 2s/step - loss: 0.0354 - accuracy: 0.9938 - val_loss: 5.6904 - val_accuracy: 0.5435\n",
            "Epoch 34/50\n",
            "248/248 [==============================] - 399s 2s/step - loss: 0.0349 - accuracy: 0.9932 - val_loss: 5.8274 - val_accuracy: 0.5464\n",
            "Epoch 35/50\n",
            "248/248 [==============================] - 392s 2s/step - loss: 0.0322 - accuracy: 0.9939 - val_loss: 5.8775 - val_accuracy: 0.5445\n",
            "Epoch 36/50\n",
            "248/248 [==============================] - 392s 2s/step - loss: 0.0318 - accuracy: 0.9937 - val_loss: 5.9310 - val_accuracy: 0.5464\n",
            "Epoch 37/50\n",
            "248/248 [==============================] - 400s 2s/step - loss: 0.0300 - accuracy: 0.9943 - val_loss: 6.0337 - val_accuracy: 0.5435\n",
            "Epoch 38/50\n",
            "248/248 [==============================] - 397s 2s/step - loss: 0.0281 - accuracy: 0.9943 - val_loss: 6.1114 - val_accuracy: 0.5445\n",
            "Epoch 39/50\n",
            "248/248 [==============================] - 394s 2s/step - loss: 0.0274 - accuracy: 0.9943 - val_loss: 6.1331 - val_accuracy: 0.5464\n",
            "Epoch 40/50\n",
            "248/248 [==============================] - 396s 2s/step - loss: 0.0255 - accuracy: 0.9944 - val_loss: 6.2307 - val_accuracy: 0.5455\n",
            "Epoch 41/50\n",
            "248/248 [==============================] - 399s 2s/step - loss: 0.0243 - accuracy: 0.9956 - val_loss: 6.2861 - val_accuracy: 0.5455\n",
            "Epoch 42/50\n",
            "248/248 [==============================] - 393s 2s/step - loss: 0.0239 - accuracy: 0.9948 - val_loss: 6.3154 - val_accuracy: 0.5464\n",
            "Epoch 43/50\n",
            "248/248 [==============================] - 394s 2s/step - loss: 0.0230 - accuracy: 0.9954 - val_loss: 6.3986 - val_accuracy: 0.5455\n",
            "Epoch 44/50\n",
            "248/248 [==============================] - 389s 2s/step - loss: 0.0223 - accuracy: 0.9947 - val_loss: 6.4624 - val_accuracy: 0.5455\n",
            "Epoch 45/50\n",
            "248/248 [==============================] - 398s 2s/step - loss: 0.0214 - accuracy: 0.9953 - val_loss: 6.5661 - val_accuracy: 0.5455\n",
            "Epoch 46/50\n",
            "248/248 [==============================] - 392s 2s/step - loss: 0.0209 - accuracy: 0.9946 - val_loss: 6.6202 - val_accuracy: 0.5464\n",
            "Epoch 47/50\n",
            "248/248 [==============================] - 393s 2s/step - loss: 0.0197 - accuracy: 0.9956 - val_loss: 6.6512 - val_accuracy: 0.5493\n",
            "Epoch 48/50\n",
            "248/248 [==============================] - 396s 2s/step - loss: 0.0195 - accuracy: 0.9957 - val_loss: 6.7147 - val_accuracy: 0.5455\n",
            "Epoch 49/50\n",
            "248/248 [==============================] - 396s 2s/step - loss: 0.0191 - accuracy: 0.9949 - val_loss: 6.8212 - val_accuracy: 0.5464\n",
            "Epoch 50/50\n",
            "248/248 [==============================] - 398s 2s/step - loss: 0.0177 - accuracy: 0.9957 - val_loss: 6.8929 - val_accuracy: 0.5455\n"
          ]
        }
      ],
      "source": [
        "# Create model\n",
        "efficientnet_model_50 = create_model(model_url=efficientnet_url, # use EfficientNetB0 TensorFlow Hub URL\n",
        "                                  num_classes=train_data_10_percent.num_classes)\n",
        "\n",
        "# Compile EfficientNet model\n",
        "efficientnet_model_50.compile(loss='categorical_crossentropy',\n",
        "                           optimizer=tf.keras.optimizers.Adam(),\n",
        "                           metrics=['accuracy'])\n",
        "\n",
        "# Fit EfficientNet model\n",
        "efficientnet_history2 = efficientnet_model_50.fit(train_data_10_percent, # only use 10% of training data\n",
        "                                              epochs=50, # train for 50 epochs\n",
        "                                              steps_per_epoch=len(train_data_10_percent),\n",
        "                                              validation_data=test_data,\n",
        "                                              validation_steps=len(test_data),\n",
        "                                              callbacks=[create_tensorboard_callback(dir_name=\"tensorflow_hub\",\n",
        "                                                                                     # Track logs under different experiment name\n",
        "                                                                                     experiment_name=\"efficientnetB0\")])"
      ]
    },
    {
      "cell_type": "code",
      "execution_count": null,
      "metadata": {
        "colab": {
          "base_uri": "https://localhost:8080/",
          "height": 927
        },
        "id": "zKQB30Pzpqv5",
        "outputId": "8a9e5207-eeb8-4ec0-e51c-c47387df1e1a"
      },
      "outputs": [
        {
          "data": {
            "image/png": "[encoded data removed]",
            "text/plain": [
              "<Figure size 640x480 with 1 Axes>"
            ]
          },
          "metadata": {},
          "output_type": "display_data"
        },
        {
          "data": {
            "image/png": "[encoded data removed]",
            "text/plain": [
              "<Figure size 640x480 with 1 Axes>"
            ]
          },
          "metadata": {},
          "output_type": "display_data"
        }
      ],
      "source": [
        "plot_loss_curves(efficientnet_history2)"
      ]
    },
    {
      "cell_type": "code",
      "execution_count": null,
      "metadata": {
        "colab": {
          "base_uri": "https://localhost:8080/"
        },
        "id": "En2dlJe3pqv5",
        "outputId": "4bfa89f5-96a9-4302-8a94-c2c93f7d1f1b"
      },
      "outputs": [
        {
          "name": "stdout",
          "output_type": "stream",
          "text": [
            "Model: \"sequential_1\"\n",
            "_________________________________________________________________\n",
            " Layer (type)                Output Shape              Param #   \n",
            "=================================================================\n",
            " feature_extraction_layer (  (None, 1280)              4049564   \n",
            " KerasLayer)                                                     \n",
            "                                                                 \n",
            " output_layer (Dense)        (None, 24)                30744     \n",
            "                                                                 \n",
            "=================================================================\n",
            "Total params: 4080308 (15.57 MB)\n",
            "Trainable params: 30744 (120.09 KB)\n",
            "Non-trainable params: 4049564 (15.45 MB)\n",
            "_________________________________________________________________\n"
          ]
        }
      ],
      "source": [
        "efficientnet_model_50.summary()"
      ]
    },
    {
      "cell_type": "code",
      "execution_count": null,
      "metadata": {
        "id": "Fm1YfhRZpqv6"
      },
      "outputs": [],
      "source": [
        "efficientnet_model.save(\"efficientnet50.h5\")\n"
      ]
    },
    {
      "cell_type": "code",
      "execution_count": null,
      "metadata": {
        "id": "krL9m1Ehpqv6"
      },
      "outputs": [],
      "source": [
        "efficientnet_model.save(\"/content/drive/MyDrive/efficient-50\", save_format=\"h5\")"
      ]
    }
  ],
  "metadata": {
    "colab": {
      "provenance": []
    },
    "kernelspec": {
      "display_name": "Python 3",
      "name": "python3"
    },
    "language_info": {
      "codemirror_mode": {
        "name": "ipython",
        "version": 3
      },
      "file_extension": ".py",
      "mimetype": "text/x-python",
      "name": "python",
      "nbconvert_exporter": "python",
      "pygments_lexer": "ipython3",
      "version": "3.6.13"
    }
  },
  "nbformat": 4,
  "nbformat_minor": 0
}
