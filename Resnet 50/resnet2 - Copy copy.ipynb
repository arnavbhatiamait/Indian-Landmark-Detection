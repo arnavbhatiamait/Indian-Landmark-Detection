{
 "cells": [
  {
   "cell_type": "code",
   "execution_count": 1,
   "metadata": {},
   "outputs": [],
   "source": [
    "# ! pip install pytorch"
   ]
  },
  {
   "cell_type": "code",
   "execution_count": 2,
   "metadata": {},
   "outputs": [],
   "source": [
    "# !pip install split-folders matplotlib opencv-python spicy"
   ]
  },
  {
   "cell_type": "code",
   "execution_count": 3,
   "metadata": {},
   "outputs": [],
   "source": [
    "# Import Keras modules and its important APIs\n",
    "import keras\n",
    "from keras.layers import Dense, Conv2D, BatchNormalization, Activation\n",
    "from keras.layers import AveragePooling2D, Input, Flatten\n",
    "from keras.optimizers import Adam\n",
    "from keras.callbacks import ModelCheckpoint, LearningRateScheduler\n",
    "from keras.callbacks import ReduceLROnPlateau\n",
    "# from keras.preprocessing.image import ImageDataGenerator\n",
    "from keras.regularizers import l2\n",
    "from keras import backend as K\n",
    "from keras.models import Model\n",
    "from keras.datasets import cifar10\n",
    "import numpy as np\n",
    "import os\n",
    "import torch\n",
    "import torch.nn as nn\n",
    "import numpy as np\n",
    "import cv2 as cv\n",
    "import os\n",
    "import splitfolders\n",
    "import matplotlib.pyplot as plt\n",
    "\n",
    "# tensorflow\n",
    "import tensorflow.keras as keras\n",
    "import tensorflow as tf\n",
    "\n",
    "# image processing\n",
    "from tensorflow.keras.preprocessing import image\n",
    "from tensorflow.keras.preprocessing.image import ImageDataGenerator, load_img\n",
    "\n",
    "# model / neural network\n",
    "from tensorflow.keras import layers\n",
    "from tensorflow.keras.models import Sequential, Model\n",
    "from tensorflow.keras.applications import ResNet50\n",
    "from tensorflow.keras.applications.resnet50 import preprocess_input\n"
   ]
  },
  {
   "cell_type": "code",
   "execution_count": 4,
   "metadata": {},
   "outputs": [],
   "source": [
    "train_path=\"archive - Copy/Indian-monuments/images/train\""
   ]
  },
  {
   "cell_type": "code",
   "execution_count": 5,
   "metadata": {},
   "outputs": [],
   "source": [
    "# splitfolders.ratio(train_path, output=\"archive - Copy/data-split\", seed=1337, ratio=(0.7, 0.2, 0.1), group_prefix=None, move=False)\n"
   ]
  },
  {
   "cell_type": "code",
   "execution_count": 6,
   "metadata": {},
   "outputs": [
    {
     "name": "stdout",
     "output_type": "stream",
     "text": [
      "['Ajanta Caves', 'Charar E Sharif', 'Chhota Imambara', 'Ellora Caves', 'Fatehpur Sikri', 'Gateway of India', 'Humayun_s Tomb', 'India gate pics', 'Khajuraho', 'Sun Temple Konark', 'alai darwaza', 'alai minar', 'basilica of bom jesus', 'charminar', 'golden temple', 'hawa mahal pics', 'iron pillar', 'jamali kamali_tomb', 'lotus temple', 'mysore palace', 'qutub minar', 'tajmahal', 'tanjavur temple']\n"
     ]
    }
   ],
   "source": [
    "dicti_values={0:'Ajanta Caves',\n",
    " 1:'Charar E Sharif',\n",
    " 2:'Chhota Imambara',\n",
    " 3:'Ellora Caves',\n",
    " 4:'Fatehpur Sikri',\n",
    " 5:'Gateway of India',\n",
    " 6:'Humayun_s Tomb',\n",
    " 7:'India gate pics',\n",
    " 8:'Khajuraho',\n",
    " 9:'Sun Temple Konark',\n",
    " 10:'alai darwaza',\n",
    " 11:'alai minar',\n",
    " 12:'basilica of bom jesus',\n",
    " 13:'charminar',\n",
    " 14:'golden temple',\n",
    " 15:'hawa mahal pics',\n",
    " 16:'iron pillar',\n",
    " 17:'jamali kamali_tomb',\n",
    " 18:'lotus temple',\n",
    " 19:'mysore palace',\n",
    " 20:'qutub minar',\n",
    " 21:'tajmahal',\n",
    " 22:'tanjavur temple',\n",
    " 23:'victoria memorial'}\n",
    "l=[]\n",
    "for i in range(23):\n",
    "    l.append(dicti_values[i])\n",
    "class_names=l\n",
    "print(class_names)"
   ]
  },
  {
   "cell_type": "code",
   "execution_count": 7,
   "metadata": {},
   "outputs": [],
   "source": [
    "datagen = ImageDataGenerator()"
   ]
  },
  {
   "cell_type": "code",
   "execution_count": 8,
   "metadata": {},
   "outputs": [
    {
     "name": "stdout",
     "output_type": "stream",
     "text": [
      "Found 2935 images belonging to 23 classes.\n"
     ]
    },
    {
     "name": "stderr",
     "output_type": "stream",
     "text": [
      "<>:18: SyntaxWarning: invalid escape sequence '\\d'\n",
      "<>:18: SyntaxWarning: invalid escape sequence '\\d'\n",
      "C:\\Users\\91995\\AppData\\Local\\Temp\\ipykernel_8584\\1830802308.py:18: SyntaxWarning: invalid escape sequence '\\d'\n",
      "  directory=\"archive - Copy\\data-split/test\",\n"
     ]
    },
    {
     "name": "stdout",
     "output_type": "stream",
     "text": [
      "Found 836 images belonging to 23 classes.\n"
     ]
    },
    {
     "name": "stdout",
     "output_type": "stream",
     "text": [
      "Found 433 images belonging to 23 classes.\n"
     ]
    }
   ],
   "source": [
    "train_generator = datagen.flow_from_directory( \n",
    "    directory=\"archive - Copy/data-split/train\", \n",
    "    classes = class_names,\n",
    "    target_size=(224, 224),  \n",
    "    batch_size=32, \n",
    "    class_mode=\"binary\", \n",
    ")\n",
    "valid_generator = datagen.flow_from_directory( \n",
    "    directory=\"archive - Copy/data-split/val\", \n",
    "    classes = class_names,\n",
    "    target_size=(224, 224), \n",
    "    batch_size=32, \n",
    "    class_mode=\"binary\", \n",
    ")\n",
    "\n",
    "# test data\n",
    "test_generator = datagen.flow_from_directory( \n",
    "    directory=\"archive - Copy\\data-split/test\", \n",
    "    classes = class_names,\n",
    "    target_size=(224, 224), \n",
    "    batch_size=32, \n",
    "    class_mode=\"binary\", \n",
    ")"
   ]
  },
  {
   "cell_type": "code",
   "execution_count": 9,
   "metadata": {},
   "outputs": [],
   "source": [
    "resnet_50 = ResNet50(include_top=False, weights='imagenet', input_shape=(224,224,3))\n",
    "for layer in resnet_50.layers:\n",
    "    layer.trainable = False"
   ]
  },
  {
   "cell_type": "code",
   "execution_count": 10,
   "metadata": {},
   "outputs": [],
   "source": [
    "x = resnet_50.output\n",
    "x = layers.GlobalAveragePooling2D()(x)\n",
    "x = layers.Dense(512, activation='relu')(x) \n",
    "x = layers.Dropout(0.5)(x)\n",
    "x = layers.Dense(256, activation='relu')(x) \n",
    "x = layers.Dropout(0.5)(x)\n",
    "x = layers.Dense(128, activation='relu')(x) \n",
    "x = layers.Dropout(0.5)(x)\n",
    "x = layers.Dense(64, activation='relu')(x) \n",
    "x = layers.Dropout(0.5)(x)\n",
    "predictions = layers.Dense(24, activation='softmax')(x)\n",
    "model = Model(inputs = resnet_50.input, outputs = predictions)"
   ]
  },
  {
   "cell_type": "code",
   "execution_count": 11,
   "metadata": {},
   "outputs": [],
   "source": [
    "def trainModel(model, epochs, optimizer):\n",
    "    batch_size = 32\n",
    "    model.compile(optimizer=optimizer, loss=\"sparse_categorical_crossentropy\", metrics=[\"accuracy\"])\n",
    "    return model.fit(train_generator, validation_data=valid_generator, epochs=epochs, batch_size=batch_size)"
   ]
  },
  {
   "cell_type": "markdown",
   "metadata": {},
   "source": [
    "model_history = trainModel(model = model, epochs = 120, optimizer = \"Adam\")"
   ]
  },
  {
   "cell_type": "code",
   "execution_count": 13,
   "metadata": {},
   "outputs": [
    {
     "name": "stdout",
     "output_type": "stream",
     "text": [
      "Epoch 1/120\n"
     ]
    },
    {
     "name": "stderr",
     "output_type": "stream",
     "text": [
      "c:\\Users\\91995\\AppData\\Local\\Programs\\Python\\Python312\\Lib\\site-packages\\keras\\src\\trainers\\data_adapters\\py_dataset_adapter.py:122: UserWarning: Your `PyDataset` class should call `super().__init__(**kwargs)` in its constructor. `**kwargs` can include `workers`, `use_multiprocessing`, `max_queue_size`. Do not pass these arguments to `fit()`, as they will be ignored.\n",
      "  self._warn_if_super_not_called()\n"
     ]
    },
    {
     "name": "stdout",
     "output_type": "stream",
     "text": [
      "\u001b[1m92/92\u001b[0m \u001b[32m━━━━━━━━━━━━━━━━━━━━\u001b[0m\u001b[37m\u001b[0m \u001b[1m700s\u001b[0m 7s/step - accuracy: 0.0610 - loss: 3.5991 - val_accuracy: 0.2141 - val_loss: 2.8514\n",
      "Epoch 2/120\n",
      "\u001b[1m92/92\u001b[0m \u001b[32m━━━━━━━━━━━━━━━━━━━━\u001b[0m\u001b[37m\u001b[0m \u001b[1m671s\u001b[0m 7s/step - accuracy: 0.1161 - loss: 2.8063 - val_accuracy: 0.3732 - val_loss: 2.3519\n",
      "Epoch 3/120\n",
      "\u001b[1m92/92\u001b[0m \u001b[32m━━━━━━━━━━━━━━━━━━━━\u001b[0m\u001b[37m\u001b[0m \u001b[1m625s\u001b[0m 7s/step - accuracy: 0.1705 - loss: 2.4615 - val_accuracy: 0.4342 - val_loss: 1.8366\n",
      "Epoch 4/120\n",
      "\u001b[1m92/92\u001b[0m \u001b[32m━━━━━━━━━━━━━━━━━━━━\u001b[0m\u001b[37m\u001b[0m \u001b[1m624s\u001b[0m 7s/step - accuracy: 0.2854 - loss: 2.0876 - val_accuracy: 0.5060 - val_loss: 1.4804\n",
      "Epoch 5/120\n",
      "\u001b[1m92/92\u001b[0m \u001b[32m━━━━━━━━━━━━━━━━━━━━\u001b[0m\u001b[37m\u001b[0m \u001b[1m608s\u001b[0m 7s/step - accuracy: 0.3604 - loss: 1.8444 - val_accuracy: 0.6232 - val_loss: 1.2676\n",
      "Epoch 6/120\n",
      "\u001b[1m92/92\u001b[0m \u001b[32m━━━━━━━━━━━━━━━━━━━━\u001b[0m\u001b[37m\u001b[0m \u001b[1m647s\u001b[0m 7s/step - accuracy: 0.4185 - loss: 1.6412 - val_accuracy: 0.5658 - val_loss: 1.1085\n",
      "Epoch 7/120\n",
      "\u001b[1m92/92\u001b[0m \u001b[32m━━━━━━━━━━━━━━━━━━━━\u001b[0m\u001b[37m\u001b[0m \u001b[1m656s\u001b[0m 7s/step - accuracy: 0.4720 - loss: 1.4383 - val_accuracy: 0.5634 - val_loss: 1.0142\n",
      "Epoch 8/120\n",
      "\u001b[1m92/92\u001b[0m \u001b[32m━━━━━━━━━━━━━━━━━━━━\u001b[0m\u001b[37m\u001b[0m \u001b[1m591s\u001b[0m 6s/step - accuracy: 0.5216 - loss: 1.3231 - val_accuracy: 0.6041 - val_loss: 1.0186\n",
      "Epoch 9/120\n",
      "\u001b[1m92/92\u001b[0m \u001b[32m━━━━━━━━━━━━━━━━━━━━\u001b[0m\u001b[37m\u001b[0m \u001b[1m597s\u001b[0m 6s/step - accuracy: 0.5300 - loss: 1.2132 - val_accuracy: 0.6160 - val_loss: 0.9578\n",
      "Epoch 10/120\n",
      "\u001b[1m92/92\u001b[0m \u001b[32m━━━━━━━━━━━━━━━━━━━━\u001b[0m\u001b[37m\u001b[0m \u001b[1m494s\u001b[0m 5s/step - accuracy: 0.5571 - loss: 1.1516 - val_accuracy: 0.6746 - val_loss: 0.9648\n",
      "Epoch 11/120\n",
      "\u001b[1m92/92\u001b[0m \u001b[32m━━━━━━━━━━━━━━━━━━━━\u001b[0m\u001b[37m\u001b[0m \u001b[1m492s\u001b[0m 5s/step - accuracy: 0.5628 - loss: 1.1192 - val_accuracy: 0.6830 - val_loss: 0.9191\n",
      "Epoch 12/120\n",
      "\u001b[1m92/92\u001b[0m \u001b[32m━━━━━━━━━━━━━━━━━━━━\u001b[0m\u001b[37m\u001b[0m \u001b[1m513s\u001b[0m 6s/step - accuracy: 0.5991 - loss: 1.0114 - val_accuracy: 0.6986 - val_loss: 0.8458\n",
      "Epoch 13/120\n",
      "\u001b[1m92/92\u001b[0m \u001b[32m━━━━━━━━━━━━━━━━━━━━\u001b[0m\u001b[37m\u001b[0m \u001b[1m605s\u001b[0m 7s/step - accuracy: 0.6268 - loss: 1.0429 - val_accuracy: 0.6986 - val_loss: 0.8326\n",
      "Epoch 14/120\n",
      "\u001b[1m92/92\u001b[0m \u001b[32m━━━━━━━━━━━━━━━━━━━━\u001b[0m\u001b[37m\u001b[0m \u001b[1m593s\u001b[0m 6s/step - accuracy: 0.6429 - loss: 0.9504 - val_accuracy: 0.7249 - val_loss: 0.7660\n",
      "Epoch 15/120\n",
      "\u001b[1m92/92\u001b[0m \u001b[32m━━━━━━━━━━━━━━━━━━━━\u001b[0m\u001b[37m\u001b[0m \u001b[1m592s\u001b[0m 6s/step - accuracy: 0.6581 - loss: 0.8970 - val_accuracy: 0.7165 - val_loss: 0.7840\n",
      "Epoch 16/120\n",
      "\u001b[1m92/92\u001b[0m \u001b[32m━━━━━━━━━━━━━━━━━━━━\u001b[0m\u001b[37m\u001b[0m \u001b[1m587s\u001b[0m 6s/step - accuracy: 0.6609 - loss: 0.9453 - val_accuracy: 0.7213 - val_loss: 0.7659\n",
      "Epoch 17/120\n",
      "\u001b[1m92/92\u001b[0m \u001b[32m━━━━━━━━━━━━━━━━━━━━\u001b[0m\u001b[37m\u001b[0m \u001b[1m590s\u001b[0m 6s/step - accuracy: 0.6615 - loss: 0.8986 - val_accuracy: 0.7237 - val_loss: 0.8202\n",
      "Epoch 18/120\n",
      "\u001b[1m92/92\u001b[0m \u001b[32m━━━━━━━━━━━━━━━━━━━━\u001b[0m\u001b[37m\u001b[0m \u001b[1m592s\u001b[0m 6s/step - accuracy: 0.6957 - loss: 0.8726 - val_accuracy: 0.7273 - val_loss: 0.7525\n",
      "Epoch 19/120\n",
      "\u001b[1m92/92\u001b[0m \u001b[32m━━━━━━━━━━━━━━━━━━━━\u001b[0m\u001b[37m\u001b[0m \u001b[1m590s\u001b[0m 6s/step - accuracy: 0.7062 - loss: 0.8175 - val_accuracy: 0.7273 - val_loss: 0.7435\n",
      "Epoch 20/120\n",
      "\u001b[1m92/92\u001b[0m \u001b[32m━━━━━━━━━━━━━━━━━━━━\u001b[0m\u001b[37m\u001b[0m \u001b[1m589s\u001b[0m 6s/step - accuracy: 0.7229 - loss: 0.7342 - val_accuracy: 0.7584 - val_loss: 0.7580\n",
      "Epoch 21/120\n",
      "\u001b[1m92/92\u001b[0m \u001b[32m━━━━━━━━━━━━━━━━━━━━\u001b[0m\u001b[37m\u001b[0m \u001b[1m584s\u001b[0m 6s/step - accuracy: 0.7167 - loss: 0.7416 - val_accuracy: 0.7368 - val_loss: 0.7408\n",
      "Epoch 22/120\n",
      "\u001b[1m92/92\u001b[0m \u001b[32m━━━━━━━━━━━━━━━━━━━━\u001b[0m\u001b[37m\u001b[0m \u001b[1m581s\u001b[0m 6s/step - accuracy: 0.7333 - loss: 0.7492 - val_accuracy: 0.7416 - val_loss: 0.7504\n",
      "Epoch 23/120\n",
      "\u001b[1m92/92\u001b[0m \u001b[32m━━━━━━━━━━━━━━━━━━━━\u001b[0m\u001b[37m\u001b[0m \u001b[1m583s\u001b[0m 6s/step - accuracy: 0.7128 - loss: 0.7678 - val_accuracy: 0.7656 - val_loss: 0.7593\n",
      "Epoch 24/120\n",
      "\u001b[1m92/92\u001b[0m \u001b[32m━━━━━━━━━━━━━━━━━━━━\u001b[0m\u001b[37m\u001b[0m \u001b[1m583s\u001b[0m 6s/step - accuracy: 0.7165 - loss: 0.7170 - val_accuracy: 0.7416 - val_loss: 0.7912\n",
      "Epoch 25/120\n",
      "\u001b[1m92/92\u001b[0m \u001b[32m━━━━━━━━━━━━━━━━━━━━\u001b[0m\u001b[37m\u001b[0m \u001b[1m599s\u001b[0m 6s/step - accuracy: 0.7193 - loss: 0.7340 - val_accuracy: 0.7572 - val_loss: 0.7231\n",
      "Epoch 26/120\n",
      "\u001b[1m92/92\u001b[0m \u001b[32m━━━━━━━━━━━━━━━━━━━━\u001b[0m\u001b[37m\u001b[0m \u001b[1m603s\u001b[0m 7s/step - accuracy: 0.7573 - loss: 0.6627 - val_accuracy: 0.7620 - val_loss: 0.8093\n",
      "Epoch 27/120\n",
      "\u001b[1m92/92\u001b[0m \u001b[32m━━━━━━━━━━━━━━━━━━━━\u001b[0m\u001b[37m\u001b[0m \u001b[1m588s\u001b[0m 6s/step - accuracy: 0.7205 - loss: 0.7524 - val_accuracy: 0.7572 - val_loss: 0.7462\n",
      "Epoch 28/120\n",
      "\u001b[1m92/92\u001b[0m \u001b[32m━━━━━━━━━━━━━━━━━━━━\u001b[0m\u001b[37m\u001b[0m \u001b[1m582s\u001b[0m 6s/step - accuracy: 0.7555 - loss: 0.6259 - val_accuracy: 0.7512 - val_loss: 0.7474\n",
      "Epoch 29/120\n",
      "\u001b[1m92/92\u001b[0m \u001b[32m━━━━━━━━━━━━━━━━━━━━\u001b[0m\u001b[37m\u001b[0m \u001b[1m581s\u001b[0m 6s/step - accuracy: 0.7467 - loss: 0.6516 - val_accuracy: 0.7536 - val_loss: 0.7924\n",
      "Epoch 30/120\n",
      "\u001b[1m92/92\u001b[0m \u001b[32m━━━━━━━━━━━━━━━━━━━━\u001b[0m\u001b[37m\u001b[0m \u001b[1m592s\u001b[0m 6s/step - accuracy: 0.7414 - loss: 0.6710 - val_accuracy: 0.7632 - val_loss: 0.7348\n",
      "Epoch 31/120\n",
      "\u001b[1m92/92\u001b[0m \u001b[32m━━━━━━━━━━━━━━━━━━━━\u001b[0m\u001b[37m\u001b[0m \u001b[1m589s\u001b[0m 6s/step - accuracy: 0.7491 - loss: 0.6862 - val_accuracy: 0.7691 - val_loss: 0.7471\n",
      "Epoch 32/120\n",
      "\u001b[1m92/92\u001b[0m \u001b[32m━━━━━━━━━━━━━━━━━━━━\u001b[0m\u001b[37m\u001b[0m \u001b[1m593s\u001b[0m 6s/step - accuracy: 0.7551 - loss: 0.6281 - val_accuracy: 0.7691 - val_loss: 0.7366\n",
      "Epoch 33/120\n",
      "\u001b[1m92/92\u001b[0m \u001b[32m━━━━━━━━━━━━━━━━━━━━\u001b[0m\u001b[37m\u001b[0m \u001b[1m592s\u001b[0m 6s/step - accuracy: 0.7553 - loss: 0.6021 - val_accuracy: 0.7679 - val_loss: 0.6902\n",
      "Epoch 34/120\n",
      "\u001b[1m92/92\u001b[0m \u001b[32m━━━━━━━━━━━━━━━━━━━━\u001b[0m\u001b[37m\u001b[0m \u001b[1m590s\u001b[0m 6s/step - accuracy: 0.7848 - loss: 0.5571 - val_accuracy: 0.7572 - val_loss: 0.7759\n",
      "Epoch 35/120\n",
      "\u001b[1m92/92\u001b[0m \u001b[32m━━━━━━━━━━━━━━━━━━━━\u001b[0m\u001b[37m\u001b[0m \u001b[1m596s\u001b[0m 6s/step - accuracy: 0.7742 - loss: 0.5982 - val_accuracy: 0.7811 - val_loss: 0.6895\n",
      "Epoch 36/120\n",
      "\u001b[1m92/92\u001b[0m \u001b[32m━━━━━━━━━━━━━━━━━━━━\u001b[0m\u001b[37m\u001b[0m \u001b[1m588s\u001b[0m 6s/step - accuracy: 0.7792 - loss: 0.5747 - val_accuracy: 0.7584 - val_loss: 0.8193\n",
      "Epoch 37/120\n",
      "\u001b[1m92/92\u001b[0m \u001b[32m━━━━━━━━━━━━━━━━━━━━\u001b[0m\u001b[37m\u001b[0m \u001b[1m592s\u001b[0m 6s/step - accuracy: 0.7615 - loss: 0.6446 - val_accuracy: 0.7763 - val_loss: 0.7224\n",
      "Epoch 38/120\n",
      "\u001b[1m92/92\u001b[0m \u001b[32m━━━━━━━━━━━━━━━━━━━━\u001b[0m\u001b[37m\u001b[0m \u001b[1m599s\u001b[0m 6s/step - accuracy: 0.7875 - loss: 0.5533 - val_accuracy: 0.7739 - val_loss: 0.7141\n",
      "Epoch 39/120\n",
      "\u001b[1m92/92\u001b[0m \u001b[32m━━━━━━━━━━━━━━━━━━━━\u001b[0m\u001b[37m\u001b[0m \u001b[1m617s\u001b[0m 7s/step - accuracy: 0.7952 - loss: 0.5598 - val_accuracy: 0.7667 - val_loss: 0.6775\n",
      "Epoch 40/120\n",
      "\u001b[1m92/92\u001b[0m \u001b[32m━━━━━━━━━━━━━━━━━━━━\u001b[0m\u001b[37m\u001b[0m \u001b[1m607s\u001b[0m 7s/step - accuracy: 0.7848 - loss: 0.5487 - val_accuracy: 0.7787 - val_loss: 0.7311\n",
      "Epoch 41/120\n",
      "\u001b[1m92/92\u001b[0m \u001b[32m━━━━━━━━━━━━━━━━━━━━\u001b[0m\u001b[37m\u001b[0m \u001b[1m594s\u001b[0m 6s/step - accuracy: 0.7956 - loss: 0.5397 - val_accuracy: 0.7775 - val_loss: 0.8144\n",
      "Epoch 42/120\n",
      "\u001b[1m92/92\u001b[0m \u001b[32m━━━━━━━━━━━━━━━━━━━━\u001b[0m\u001b[37m\u001b[0m \u001b[1m591s\u001b[0m 6s/step - accuracy: 0.7875 - loss: 0.5913 - val_accuracy: 0.7799 - val_loss: 0.7353\n",
      "Epoch 43/120\n",
      "\u001b[1m92/92\u001b[0m \u001b[32m━━━━━━━━━━━━━━━━━━━━\u001b[0m\u001b[37m\u001b[0m \u001b[1m588s\u001b[0m 6s/step - accuracy: 0.7751 - loss: 0.5786 - val_accuracy: 0.7835 - val_loss: 0.6682\n",
      "Epoch 44/120\n",
      "\u001b[1m92/92\u001b[0m \u001b[32m━━━━━━━━━━━━━━━━━━━━\u001b[0m\u001b[37m\u001b[0m \u001b[1m586s\u001b[0m 6s/step - accuracy: 0.7857 - loss: 0.5583 - val_accuracy: 0.7907 - val_loss: 0.7840\n",
      "Epoch 45/120\n",
      "\u001b[1m92/92\u001b[0m \u001b[32m━━━━━━━━━━━━━━━━━━━━\u001b[0m\u001b[37m\u001b[0m \u001b[1m589s\u001b[0m 6s/step - accuracy: 0.7978 - loss: 0.5163 - val_accuracy: 0.7823 - val_loss: 0.7012\n",
      "Epoch 46/120\n",
      "\u001b[1m92/92\u001b[0m \u001b[32m━━━━━━━━━━━━━━━━━━━━\u001b[0m\u001b[37m\u001b[0m \u001b[1m591s\u001b[0m 6s/step - accuracy: 0.8067 - loss: 0.5036 - val_accuracy: 0.7775 - val_loss: 0.7754\n",
      "Epoch 47/120\n",
      "\u001b[1m92/92\u001b[0m \u001b[32m━━━━━━━━━━━━━━━━━━━━\u001b[0m\u001b[37m\u001b[0m \u001b[1m588s\u001b[0m 6s/step - accuracy: 0.7987 - loss: 0.5627 - val_accuracy: 0.7703 - val_loss: 0.8135\n",
      "Epoch 48/120\n",
      "\u001b[1m92/92\u001b[0m \u001b[32m━━━━━━━━━━━━━━━━━━━━\u001b[0m\u001b[37m\u001b[0m \u001b[1m595s\u001b[0m 6s/step - accuracy: 0.7921 - loss: 0.4990 - val_accuracy: 0.7931 - val_loss: 0.7481\n",
      "Epoch 49/120\n",
      "\u001b[1m92/92\u001b[0m \u001b[32m━━━━━━━━━━━━━━━━━━━━\u001b[0m\u001b[37m\u001b[0m \u001b[1m589s\u001b[0m 6s/step - accuracy: 0.7987 - loss: 0.5511 - val_accuracy: 0.7823 - val_loss: 0.6613\n",
      "Epoch 50/120\n",
      "\u001b[1m92/92\u001b[0m \u001b[32m━━━━━━━━━━━━━━━━━━━━\u001b[0m\u001b[37m\u001b[0m \u001b[1m588s\u001b[0m 6s/step - accuracy: 0.8184 - loss: 0.4808 - val_accuracy: 0.8038 - val_loss: 0.6997\n",
      "Epoch 51/120\n",
      "\u001b[1m92/92\u001b[0m \u001b[32m━━━━━━━━━━━━━━━━━━━━\u001b[0m\u001b[37m\u001b[0m \u001b[1m590s\u001b[0m 6s/step - accuracy: 0.7952 - loss: 0.5268 - val_accuracy: 0.7811 - val_loss: 0.7584\n",
      "Epoch 52/120\n",
      "\u001b[1m92/92\u001b[0m \u001b[32m━━━━━━━━━━━━━━━━━━━━\u001b[0m\u001b[37m\u001b[0m \u001b[1m588s\u001b[0m 6s/step - accuracy: 0.8048 - loss: 0.5275 - val_accuracy: 0.8002 - val_loss: 0.7096\n",
      "Epoch 53/120\n",
      "\u001b[1m92/92\u001b[0m \u001b[32m━━━━━━━━━━━━━━━━━━━━\u001b[0m\u001b[37m\u001b[0m \u001b[1m585s\u001b[0m 6s/step - accuracy: 0.8204 - loss: 0.4629 - val_accuracy: 0.8062 - val_loss: 0.7563\n",
      "Epoch 54/120\n",
      "\u001b[1m92/92\u001b[0m \u001b[32m━━━━━━━━━━━━━━━━━━━━\u001b[0m\u001b[37m\u001b[0m \u001b[1m597s\u001b[0m 6s/step - accuracy: 0.8010 - loss: 0.4852 - val_accuracy: 0.8110 - val_loss: 0.7425\n",
      "Epoch 55/120\n",
      "\u001b[1m92/92\u001b[0m \u001b[32m━━━━━━━━━━━━━━━━━━━━\u001b[0m\u001b[37m\u001b[0m \u001b[1m592s\u001b[0m 6s/step - accuracy: 0.8116 - loss: 0.4844 - val_accuracy: 0.8086 - val_loss: 0.8304\n",
      "Epoch 56/120\n",
      "\u001b[1m92/92\u001b[0m \u001b[32m━━━━━━━━━━━━━━━━━━━━\u001b[0m\u001b[37m\u001b[0m \u001b[1m599s\u001b[0m 6s/step - accuracy: 0.8248 - loss: 0.4613 - val_accuracy: 0.7919 - val_loss: 0.8116\n",
      "Epoch 57/120\n",
      "\u001b[1m92/92\u001b[0m \u001b[32m━━━━━━━━━━━━━━━━━━━━\u001b[0m\u001b[37m\u001b[0m \u001b[1m596s\u001b[0m 6s/step - accuracy: 0.8208 - loss: 0.4761 - val_accuracy: 0.7967 - val_loss: 0.7657\n",
      "Epoch 58/120\n",
      "\u001b[1m92/92\u001b[0m \u001b[32m━━━━━━━━━━━━━━━━━━━━\u001b[0m\u001b[37m\u001b[0m \u001b[1m585s\u001b[0m 6s/step - accuracy: 0.8177 - loss: 0.4731 - val_accuracy: 0.7919 - val_loss: 0.7740\n",
      "Epoch 59/120\n",
      "\u001b[1m92/92\u001b[0m \u001b[32m━━━━━━━━━━━━━━━━━━━━\u001b[0m\u001b[37m\u001b[0m \u001b[1m616s\u001b[0m 7s/step - accuracy: 0.8266 - loss: 0.4782 - val_accuracy: 0.8110 - val_loss: 0.7487\n",
      "Epoch 60/120\n",
      "\u001b[1m92/92\u001b[0m \u001b[32m━━━━━━━━━━━━━━━━━━━━\u001b[0m\u001b[37m\u001b[0m \u001b[1m588s\u001b[0m 6s/step - accuracy: 0.8168 - loss: 0.4761 - val_accuracy: 0.8194 - val_loss: 0.7783\n",
      "Epoch 61/120\n",
      "\u001b[1m92/92\u001b[0m \u001b[32m━━━━━━━━━━━━━━━━━━━━\u001b[0m\u001b[37m\u001b[0m \u001b[1m585s\u001b[0m 6s/step - accuracy: 0.8089 - loss: 0.5207 - val_accuracy: 0.7835 - val_loss: 0.8540\n",
      "Epoch 62/120\n",
      "\u001b[1m92/92\u001b[0m \u001b[32m━━━━━━━━━━━━━━━━━━━━\u001b[0m\u001b[37m\u001b[0m \u001b[1m582s\u001b[0m 6s/step - accuracy: 0.8425 - loss: 0.4270 - val_accuracy: 0.8146 - val_loss: 0.8233\n",
      "Epoch 63/120\n",
      "\u001b[1m92/92\u001b[0m \u001b[32m━━━━━━━━━━━━━━━━━━━━\u001b[0m\u001b[37m\u001b[0m \u001b[1m587s\u001b[0m 6s/step - accuracy: 0.8294 - loss: 0.4743 - val_accuracy: 0.8026 - val_loss: 0.7501\n",
      "Epoch 64/120\n",
      "\u001b[1m92/92\u001b[0m \u001b[32m━━━━━━━━━━━━━━━━━━━━\u001b[0m\u001b[37m\u001b[0m \u001b[1m587s\u001b[0m 6s/step - accuracy: 0.8259 - loss: 0.4650 - val_accuracy: 0.8038 - val_loss: 0.7646\n",
      "Epoch 65/120\n",
      "\u001b[1m92/92\u001b[0m \u001b[32m━━━━━━━━━━━━━━━━━━━━\u001b[0m\u001b[37m\u001b[0m \u001b[1m584s\u001b[0m 6s/step - accuracy: 0.8428 - loss: 0.4371 - val_accuracy: 0.8182 - val_loss: 0.7913\n",
      "Epoch 66/120\n",
      "\u001b[1m92/92\u001b[0m \u001b[32m━━━━━━━━━━━━━━━━━━━━\u001b[0m\u001b[37m\u001b[0m \u001b[1m545s\u001b[0m 6s/step - accuracy: 0.8347 - loss: 0.4852 - val_accuracy: 0.8230 - val_loss: 0.8537\n",
      "Epoch 67/120\n",
      "\u001b[1m92/92\u001b[0m \u001b[32m━━━━━━━━━━━━━━━━━━━━\u001b[0m\u001b[37m\u001b[0m \u001b[1m545s\u001b[0m 6s/step - accuracy: 0.8462 - loss: 0.4185 - val_accuracy: 0.8074 - val_loss: 0.8066\n",
      "Epoch 68/120\n",
      "\u001b[1m92/92\u001b[0m \u001b[32m━━━━━━━━━━━━━━━━━━━━\u001b[0m\u001b[37m\u001b[0m \u001b[1m560s\u001b[0m 6s/step - accuracy: 0.8531 - loss: 0.4102 - val_accuracy: 0.8014 - val_loss: 0.7968\n",
      "Epoch 69/120\n",
      "\u001b[1m92/92\u001b[0m \u001b[32m━━━━━━━━━━━━━━━━━━━━\u001b[0m\u001b[37m\u001b[0m \u001b[1m566s\u001b[0m 6s/step - accuracy: 0.8441 - loss: 0.4338 - val_accuracy: 0.8134 - val_loss: 0.7218\n",
      "Epoch 70/120\n",
      "\u001b[1m92/92\u001b[0m \u001b[32m━━━━━━━━━━━━━━━━━━━━\u001b[0m\u001b[37m\u001b[0m \u001b[1m568s\u001b[0m 6s/step - accuracy: 0.8082 - loss: 0.5069 - val_accuracy: 0.8086 - val_loss: 0.7011\n",
      "Epoch 71/120\n",
      "\u001b[1m92/92\u001b[0m \u001b[32m━━━━━━━━━━━━━━━━━━━━\u001b[0m\u001b[37m\u001b[0m \u001b[1m565s\u001b[0m 6s/step - accuracy: 0.8388 - loss: 0.4381 - val_accuracy: 0.8146 - val_loss: 0.7550\n",
      "Epoch 72/120\n",
      "\u001b[1m92/92\u001b[0m \u001b[32m━━━━━━━━━━━━━━━━━━━━\u001b[0m\u001b[37m\u001b[0m \u001b[1m563s\u001b[0m 6s/step - accuracy: 0.8344 - loss: 0.4304 - val_accuracy: 0.8289 - val_loss: 0.8218\n",
      "Epoch 73/120\n",
      "\u001b[1m92/92\u001b[0m \u001b[32m━━━━━━━━━━━━━━━━━━━━\u001b[0m\u001b[37m\u001b[0m \u001b[1m566s\u001b[0m 6s/step - accuracy: 0.8524 - loss: 0.4072 - val_accuracy: 0.8301 - val_loss: 0.8152\n",
      "Epoch 74/120\n",
      "\u001b[1m92/92\u001b[0m \u001b[32m━━━━━━━━━━━━━━━━━━━━\u001b[0m\u001b[37m\u001b[0m \u001b[1m554s\u001b[0m 6s/step - accuracy: 0.8573 - loss: 0.3728 - val_accuracy: 0.8206 - val_loss: 0.8452\n",
      "Epoch 75/120\n",
      "\u001b[1m92/92\u001b[0m \u001b[32m━━━━━━━━━━━━━━━━━━━━\u001b[0m\u001b[37m\u001b[0m \u001b[1m540s\u001b[0m 6s/step - accuracy: 0.8534 - loss: 0.4014 - val_accuracy: 0.8373 - val_loss: 0.7429\n",
      "Epoch 76/120\n",
      "\u001b[1m92/92\u001b[0m \u001b[32m━━━━━━━━━━━━━━━━━━━━\u001b[0m\u001b[37m\u001b[0m \u001b[1m556s\u001b[0m 6s/step - accuracy: 0.8691 - loss: 0.4129 - val_accuracy: 0.8373 - val_loss: 0.8842\n",
      "Epoch 77/120\n",
      "\u001b[1m92/92\u001b[0m \u001b[32m━━━━━━━━━━━━━━━━━━━━\u001b[0m\u001b[37m\u001b[0m \u001b[1m596s\u001b[0m 6s/step - accuracy: 0.8691 - loss: 0.4057 - val_accuracy: 0.8325 - val_loss: 0.7837\n",
      "Epoch 78/120\n",
      "\u001b[1m92/92\u001b[0m \u001b[32m━━━━━━━━━━━━━━━━━━━━\u001b[0m\u001b[37m\u001b[0m \u001b[1m590s\u001b[0m 6s/step - accuracy: 0.8520 - loss: 0.4518 - val_accuracy: 0.8182 - val_loss: 0.7684\n",
      "Epoch 79/120\n",
      "\u001b[1m92/92\u001b[0m \u001b[32m━━━━━━━━━━━━━━━━━━━━\u001b[0m\u001b[37m\u001b[0m \u001b[1m576s\u001b[0m 6s/step - accuracy: 0.8629 - loss: 0.4026 - val_accuracy: 0.8289 - val_loss: 0.7971\n",
      "Epoch 80/120\n",
      "\u001b[1m92/92\u001b[0m \u001b[32m━━━━━━━━━━━━━━━━━━━━\u001b[0m\u001b[37m\u001b[0m \u001b[1m578s\u001b[0m 6s/step - accuracy: 0.8658 - loss: 0.3752 - val_accuracy: 0.8230 - val_loss: 0.7852\n",
      "Epoch 81/120\n",
      "\u001b[1m92/92\u001b[0m \u001b[32m━━━━━━━━━━━━━━━━━━━━\u001b[0m\u001b[37m\u001b[0m \u001b[1m576s\u001b[0m 6s/step - accuracy: 0.8588 - loss: 0.4017 - val_accuracy: 0.8158 - val_loss: 0.9104\n",
      "Epoch 82/120\n",
      "\u001b[1m92/92\u001b[0m \u001b[32m━━━━━━━━━━━━━━━━━━━━\u001b[0m\u001b[37m\u001b[0m \u001b[1m575s\u001b[0m 6s/step - accuracy: 0.8460 - loss: 0.4204 - val_accuracy: 0.8289 - val_loss: 0.9343\n",
      "Epoch 83/120\n",
      "\u001b[1m92/92\u001b[0m \u001b[32m━━━━━━━━━━━━━━━━━━━━\u001b[0m\u001b[37m\u001b[0m \u001b[1m576s\u001b[0m 6s/step - accuracy: 0.8663 - loss: 0.4050 - val_accuracy: 0.8373 - val_loss: 0.8703\n",
      "Epoch 84/120\n",
      "\u001b[1m92/92\u001b[0m \u001b[32m━━━━━━━━━━━━━━━━━━━━\u001b[0m\u001b[37m\u001b[0m \u001b[1m562s\u001b[0m 6s/step - accuracy: 0.8711 - loss: 0.3742 - val_accuracy: 0.8278 - val_loss: 0.8601\n",
      "Epoch 85/120\n",
      "\u001b[1m92/92\u001b[0m \u001b[32m━━━━━━━━━━━━━━━━━━━━\u001b[0m\u001b[37m\u001b[0m \u001b[1m547s\u001b[0m 6s/step - accuracy: 0.8816 - loss: 0.3247 - val_accuracy: 0.8301 - val_loss: 0.8271\n",
      "Epoch 86/120\n",
      "\u001b[1m92/92\u001b[0m \u001b[32m━━━━━━━━━━━━━━━━━━━━\u001b[0m\u001b[37m\u001b[0m \u001b[1m540s\u001b[0m 6s/step - accuracy: 0.8730 - loss: 0.3735 - val_accuracy: 0.8349 - val_loss: 0.9517\n",
      "Epoch 87/120\n",
      "\u001b[1m92/92\u001b[0m \u001b[32m━━━━━━━━━━━━━━━━━━━━\u001b[0m\u001b[37m\u001b[0m \u001b[1m541s\u001b[0m 6s/step - accuracy: 0.8803 - loss: 0.3457 - val_accuracy: 0.8278 - val_loss: 0.8993\n",
      "Epoch 88/120\n",
      "\u001b[1m92/92\u001b[0m \u001b[32m━━━━━━━━━━━━━━━━━━━━\u001b[0m\u001b[37m\u001b[0m \u001b[1m542s\u001b[0m 6s/step - accuracy: 0.8612 - loss: 0.3829 - val_accuracy: 0.8301 - val_loss: 0.7932\n",
      "Epoch 89/120\n",
      "\u001b[1m92/92\u001b[0m \u001b[32m━━━━━━━━━━━━━━━━━━━━\u001b[0m\u001b[37m\u001b[0m \u001b[1m557s\u001b[0m 6s/step - accuracy: 0.8662 - loss: 0.3539 - val_accuracy: 0.8313 - val_loss: 0.8972\n",
      "Epoch 90/120\n",
      "\u001b[1m92/92\u001b[0m \u001b[32m━━━━━━━━━━━━━━━━━━━━\u001b[0m\u001b[37m\u001b[0m \u001b[1m567s\u001b[0m 6s/step - accuracy: 0.8658 - loss: 0.3832 - val_accuracy: 0.8325 - val_loss: 0.8097\n",
      "Epoch 91/120\n",
      "\u001b[1m92/92\u001b[0m \u001b[32m━━━━━━━━━━━━━━━━━━━━\u001b[0m\u001b[37m\u001b[0m \u001b[1m547s\u001b[0m 6s/step - accuracy: 0.8772 - loss: 0.3688 - val_accuracy: 0.8385 - val_loss: 0.8082\n",
      "Epoch 92/120\n",
      "\u001b[1m92/92\u001b[0m \u001b[32m━━━━━━━━━━━━━━━━━━━━\u001b[0m\u001b[37m\u001b[0m \u001b[1m542s\u001b[0m 6s/step - accuracy: 0.8723 - loss: 0.3622 - val_accuracy: 0.8385 - val_loss: 0.8370\n",
      "Epoch 93/120\n",
      "\u001b[1m92/92\u001b[0m \u001b[32m━━━━━━━━━━━━━━━━━━━━\u001b[0m\u001b[37m\u001b[0m \u001b[1m541s\u001b[0m 6s/step - accuracy: 0.8669 - loss: 0.3772 - val_accuracy: 0.8385 - val_loss: 0.7261\n",
      "Epoch 94/120\n",
      "\u001b[1m92/92\u001b[0m \u001b[32m━━━━━━━━━━━━━━━━━━━━\u001b[0m\u001b[37m\u001b[0m \u001b[1m543s\u001b[0m 6s/step - accuracy: 0.8746 - loss: 0.3880 - val_accuracy: 0.8337 - val_loss: 0.8516\n",
      "Epoch 95/120\n",
      "\u001b[1m92/92\u001b[0m \u001b[32m━━━━━━━━━━━━━━━━━━━━\u001b[0m\u001b[37m\u001b[0m \u001b[1m550s\u001b[0m 6s/step - accuracy: 0.8745 - loss: 0.3605 - val_accuracy: 0.8397 - val_loss: 0.8490\n",
      "Epoch 96/120\n",
      "\u001b[1m92/92\u001b[0m \u001b[32m━━━━━━━━━━━━━━━━━━━━\u001b[0m\u001b[37m\u001b[0m \u001b[1m552s\u001b[0m 6s/step - accuracy: 0.8875 - loss: 0.3281 - val_accuracy: 0.8230 - val_loss: 0.9792\n",
      "Epoch 97/120\n",
      "\u001b[1m92/92\u001b[0m \u001b[32m━━━━━━━━━━━━━━━━━━━━\u001b[0m\u001b[37m\u001b[0m \u001b[1m542s\u001b[0m 6s/step - accuracy: 0.8755 - loss: 0.3522 - val_accuracy: 0.8337 - val_loss: 0.9342\n",
      "Epoch 98/120\n",
      "\u001b[1m92/92\u001b[0m \u001b[32m━━━━━━━━━━━━━━━━━━━━\u001b[0m\u001b[37m\u001b[0m \u001b[1m546s\u001b[0m 6s/step - accuracy: 0.8778 - loss: 0.3773 - val_accuracy: 0.8457 - val_loss: 0.8374\n",
      "Epoch 99/120\n",
      "\u001b[1m92/92\u001b[0m \u001b[32m━━━━━━━━━━━━━━━━━━━━\u001b[0m\u001b[37m\u001b[0m \u001b[1m544s\u001b[0m 6s/step - accuracy: 0.8697 - loss: 0.3527 - val_accuracy: 0.8469 - val_loss: 0.7772\n",
      "Epoch 100/120\n",
      "\u001b[1m92/92\u001b[0m \u001b[32m━━━━━━━━━━━━━━━━━━━━\u001b[0m\u001b[37m\u001b[0m \u001b[1m540s\u001b[0m 6s/step - accuracy: 0.8877 - loss: 0.3483 - val_accuracy: 0.8325 - val_loss: 1.0271\n",
      "Epoch 101/120\n",
      "\u001b[1m92/92\u001b[0m \u001b[32m━━━━━━━━━━━━━━━━━━━━\u001b[0m\u001b[37m\u001b[0m \u001b[1m541s\u001b[0m 6s/step - accuracy: 0.8733 - loss: 0.3975 - val_accuracy: 0.8349 - val_loss: 0.8254\n",
      "Epoch 102/120\n",
      "\u001b[1m92/92\u001b[0m \u001b[32m━━━━━━━━━━━━━━━━━━━━\u001b[0m\u001b[37m\u001b[0m \u001b[1m551s\u001b[0m 6s/step - accuracy: 0.8909 - loss: 0.3295 - val_accuracy: 0.8457 - val_loss: 0.8583\n",
      "Epoch 103/120\n",
      "\u001b[1m92/92\u001b[0m \u001b[32m━━━━━━━━━━━━━━━━━━━━\u001b[0m\u001b[37m\u001b[0m \u001b[1m548s\u001b[0m 6s/step - accuracy: 0.8793 - loss: 0.3321 - val_accuracy: 0.8230 - val_loss: 0.9861\n",
      "Epoch 104/120\n",
      "\u001b[1m92/92\u001b[0m \u001b[32m━━━━━━━━━━━━━━━━━━━━\u001b[0m\u001b[37m\u001b[0m \u001b[1m544s\u001b[0m 6s/step - accuracy: 0.8731 - loss: 0.4123 - val_accuracy: 0.8421 - val_loss: 0.7434\n",
      "Epoch 105/120\n",
      "\u001b[1m92/92\u001b[0m \u001b[32m━━━━━━━━━━━━━━━━━━━━\u001b[0m\u001b[37m\u001b[0m \u001b[1m547s\u001b[0m 6s/step - accuracy: 0.8816 - loss: 0.3356 - val_accuracy: 0.8433 - val_loss: 0.9721\n",
      "Epoch 106/120\n",
      "\u001b[1m92/92\u001b[0m \u001b[32m━━━━━━━━━━━━━━━━━━━━\u001b[0m\u001b[37m\u001b[0m \u001b[1m549s\u001b[0m 6s/step - accuracy: 0.8868 - loss: 0.3227 - val_accuracy: 0.8361 - val_loss: 1.0541\n",
      "Epoch 107/120\n",
      "\u001b[1m92/92\u001b[0m \u001b[32m━━━━━━━━━━━━━━━━━━━━\u001b[0m\u001b[37m\u001b[0m \u001b[1m547s\u001b[0m 6s/step - accuracy: 0.8913 - loss: 0.3664 - val_accuracy: 0.8409 - val_loss: 0.9142\n",
      "Epoch 108/120\n",
      "\u001b[1m92/92\u001b[0m \u001b[32m━━━━━━━━━━━━━━━━━━━━\u001b[0m\u001b[37m\u001b[0m \u001b[1m547s\u001b[0m 6s/step - accuracy: 0.8894 - loss: 0.3602 - val_accuracy: 0.8289 - val_loss: 0.9069\n",
      "Epoch 109/120\n",
      "\u001b[1m92/92\u001b[0m \u001b[32m━━━━━━━━━━━━━━━━━━━━\u001b[0m\u001b[37m\u001b[0m \u001b[1m549s\u001b[0m 6s/step - accuracy: 0.9025 - loss: 0.2813 - val_accuracy: 0.8254 - val_loss: 0.9165\n",
      "Epoch 110/120\n",
      "\u001b[1m92/92\u001b[0m \u001b[32m━━━━━━━━━━━━━━━━━━━━\u001b[0m\u001b[37m\u001b[0m \u001b[1m549s\u001b[0m 6s/step - accuracy: 0.8852 - loss: 0.3648 - val_accuracy: 0.8301 - val_loss: 0.8720\n",
      "Epoch 111/120\n",
      "\u001b[1m92/92\u001b[0m \u001b[32m━━━━━━━━━━━━━━━━━━━━\u001b[0m\u001b[37m\u001b[0m \u001b[1m546s\u001b[0m 6s/step - accuracy: 0.8832 - loss: 0.3615 - val_accuracy: 0.8313 - val_loss: 0.8528\n",
      "Epoch 112/120\n",
      "\u001b[1m92/92\u001b[0m \u001b[32m━━━━━━━━━━━━━━━━━━━━\u001b[0m\u001b[37m\u001b[0m \u001b[1m546s\u001b[0m 6s/step - accuracy: 0.8828 - loss: 0.3176 - val_accuracy: 0.8433 - val_loss: 1.3243\n",
      "Epoch 113/120\n",
      "\u001b[1m92/92\u001b[0m \u001b[32m━━━━━━━━━━━━━━━━━━━━\u001b[0m\u001b[37m\u001b[0m \u001b[1m548s\u001b[0m 6s/step - accuracy: 0.9109 - loss: 0.2996 - val_accuracy: 0.8397 - val_loss: 0.8686\n",
      "Epoch 114/120\n",
      "\u001b[1m92/92\u001b[0m \u001b[32m━━━━━━━━━━━━━━━━━━━━\u001b[0m\u001b[37m\u001b[0m \u001b[1m547s\u001b[0m 6s/step - accuracy: 0.9056 - loss: 0.2880 - val_accuracy: 0.8385 - val_loss: 0.8827\n",
      "Epoch 115/120\n",
      "\u001b[1m92/92\u001b[0m \u001b[32m━━━━━━━━━━━━━━━━━━━━\u001b[0m\u001b[37m\u001b[0m \u001b[1m553s\u001b[0m 6s/step - accuracy: 0.9024 - loss: 0.3055 - val_accuracy: 0.8385 - val_loss: 1.0821\n",
      "Epoch 116/120\n",
      "\u001b[1m92/92\u001b[0m \u001b[32m━━━━━━━━━━━━━━━━━━━━\u001b[0m\u001b[37m\u001b[0m \u001b[1m548s\u001b[0m 6s/step - accuracy: 0.8965 - loss: 0.3149 - val_accuracy: 0.8433 - val_loss: 0.8903\n",
      "Epoch 117/120\n",
      "\u001b[1m92/92\u001b[0m \u001b[32m━━━━━━━━━━━━━━━━━━━━\u001b[0m\u001b[37m\u001b[0m \u001b[1m560s\u001b[0m 6s/step - accuracy: 0.8965 - loss: 0.3059 - val_accuracy: 0.8313 - val_loss: 1.1145\n",
      "Epoch 118/120\n",
      "\u001b[1m92/92\u001b[0m \u001b[32m━━━━━━━━━━━━━━━━━━━━\u001b[0m\u001b[37m\u001b[0m \u001b[1m590s\u001b[0m 6s/step - accuracy: 0.8979 - loss: 0.3337 - val_accuracy: 0.8278 - val_loss: 1.1564\n",
      "Epoch 119/120\n",
      "\u001b[1m92/92\u001b[0m \u001b[32m━━━━━━━━━━━━━━━━━━━━\u001b[0m\u001b[37m\u001b[0m \u001b[1m585s\u001b[0m 6s/step - accuracy: 0.8845 - loss: 0.3548 - val_accuracy: 0.8349 - val_loss: 0.9762\n",
      "Epoch 120/120\n",
      "\u001b[1m92/92\u001b[0m \u001b[32m━━━━━━━━━━━━━━━━━━━━\u001b[0m\u001b[37m\u001b[0m \u001b[1m593s\u001b[0m 6s/step - accuracy: 0.8991 - loss: 0.3099 - val_accuracy: 0.8541 - val_loss: 0.9680\n"
     ]
    }
   ],
   "source": [
    "batch_size = 32\n",
    "epochs = 120\n",
    "optimizer = \"Adam\"\n",
    "model.compile(optimizer=optimizer, loss=\"sparse_categorical_crossentropy\", metrics=[\"accuracy\"])\n",
    "\n",
    "history=model.fit(train_generator, validation_data=valid_generator, epochs=epochs, batch_size=batch_size)"
   ]
  },
  {
   "cell_type": "code",
   "execution_count": 14,
   "metadata": {},
   "outputs": [
    {
     "name": "stderr",
     "output_type": "stream",
     "text": [
      "WARNING:absl:You are saving your model as an HDF5 file via `model.save()` or `keras.saving.save_model(model)`. This file format is considered legacy. We recommend using instead the native Keras format, e.g. `model.save('my_model.keras')` or `keras.saving.save_model(model, 'my_model.keras')`. \n"
     ]
    }
   ],
   "source": [
    "model.save('resnet_model61.h5')"
   ]
  },
  {
   "cell_type": "code",
   "execution_count": 15,
   "metadata": {},
   "outputs": [
    {
     "data": {
      "image/png": "[encoded data removed]",
      "text/plain": [
       "<Figure size 640x480 with 1 Axes>"
      ]
     },
     "metadata": {},
     "output_type": "display_data"
    }
   ],
   "source": [
    "loss_train_curve = history.history[\"loss\"]\n",
    "loss_val_curve = history.history[\"val_loss\"]\n",
    "plt.plot(loss_train_curve, label = \"Train\")\n",
    "plt.plot(loss_val_curve, label = \"Validation\")\n",
    "plt.legend(loc = 'upper right')\n",
    "plt.title(\"Loss\")\n",
    "plt.show()"
   ]
  },
  {
   "cell_type": "code",
   "execution_count": 17,
   "metadata": {},
   "outputs": [
    {
     "data": {
      "image/png": "[encoded data removed]",
      "text/plain": [
       "<Figure size 640x480 with 1 Axes>"
      ]
     },
     "metadata": {},
     "output_type": "display_data"
    }
   ],
   "source": [
    "acc_train_curve = history.history[\"accuracy\"]\n",
    "acc_val_curve = history.history[\"val_accuracy\"]\n",
    "plt.plot(acc_train_curve, label = \"Train\")\n",
    "plt.plot(acc_val_curve, label = \"Validation\")\n",
    "plt.legend(loc = 'lower right')\n",
    "plt.title(\"Accuracy\")\n",
    "plt.show()"
   ]
  },
  {
   "cell_type": "code",
   "execution_count": 19,
   "metadata": {},
   "outputs": [
    {
     "name": "stdout",
     "output_type": "stream",
     "text": [
      "\u001b[1m14/14\u001b[0m \u001b[32m━━━━━━━━━━━━━━━━━━━━\u001b[0m\u001b[37m\u001b[0m \u001b[1m76s\u001b[0m 5s/step - accuracy: 0.8917 - loss: 0.4755\n",
      "The test loss is:  0.571118950843811\n",
      "The best accuracy is:  87.52886652946472\n"
     ]
    }
   ],
   "source": [
    "test_loss, test_acc = model.evaluate(test_generator)\n",
    "print(\"The test loss is: \", test_loss)\n",
    "print(\"The best accuracy is: \", test_acc*100)"
   ]
  },
  {
   "cell_type": "code",
   "execution_count": 18,
   "metadata": {},
   "outputs": [
    {
     "name": "stderr",
     "output_type": "stream",
     "text": [
      "WARNING:absl:You are saving your model as an HDF5 file via `model.save()` or `keras.saving.save_model(model)`. This file format is considered legacy. We recommend using instead the native Keras format, e.g. `model.save('my_model.keras')` or `keras.saving.save_model(model, 'my_model.keras')`. \n"
     ]
    }
   ],
   "source": [
    "model.save('resnet_model71.h5')"
   ]
  }
 ],
 "metadata": {
  "kernelspec": {
   "display_name": "Python 3",
   "language": "python",
   "name": "python3"
  },
  "language_info": {
   "codemirror_mode": {
    "name": "ipython",
    "version": 3
   },
   "file_extension": ".py",
   "mimetype": "text/x-python",
   "name": "python",
   "nbconvert_exporter": "python",
   "pygments_lexer": "ipython3",
   "version": "3.12.2"
  }
 },
 "nbformat": 4,
 "nbformat_minor": 2
}
